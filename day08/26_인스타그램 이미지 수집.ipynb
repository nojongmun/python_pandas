{
 "cells": [
  {
   "cell_type": "markdown",
   "metadata": {},
   "source": [
    "# 26_인스타그램 이미지 수집\n",
    "\n",
    "## #01. 필요한 모듈 참조"
   ]
  },
  {
   "cell_type": "code",
   "execution_count": 34,
   "metadata": {},
   "outputs": [],
   "source": [
    "import time                                              # 내장모듈 브라우저가 페이지가 로딩하는 동안 sleep 처리하는 모듈\n",
    "from selenium import webdriver                             # 크롬제어를 위한 모듈\n",
    "from selenium.webdriver.support.ui import WebDriverWait\n",
    "from bs4 import BeautifulSoup\n",
    "import datetime as dt\n",
    "import os\n",
    "import requests"
   ]
  },
  {
   "cell_type": "markdown",
   "metadata": {},
   "source": [
    "## #02. 브라우저 제어를 위한 객체 생성\n",
    "\n",
    "### 1) 크롬이 모바일 장치로 인식되도록 속성을 변경"
   ]
  },
  {
   "cell_type": "code",
   "execution_count": 35,
   "metadata": {},
   "outputs": [],
   "source": [
    "options = webdriver.ChromeOptions()\n",
    "mobile_emulation = {\"deviceName\" : \"Nexus 5\"}\n",
    "options.add_experimental_option(\"mobileEmulation\", mobile_emulation)"
   ]
  },
  {
   "cell_type": "markdown",
   "metadata": {},
   "source": [
    "## 2) 준비된 옵션을 적용한 상태로 크롬 브라우저 열기 \n",
    "\n",
    "### 표시되는 경고 메시지는 무시"
   ]
  },
  {
   "cell_type": "code",
   "execution_count": 36,
   "metadata": {},
   "outputs": [
    {
     "name": "stderr",
     "output_type": "stream",
     "text": [
      "c:\\users\\ezen\\appdata\\local\\programs\\python\\python37\\lib\\site-packages\\ipykernel_launcher.py:1: DeprecationWarning: use options instead of chrome_options\n",
      "  \"\"\"Entry point for launching an IPython kernel.\n"
     ]
    }
   ],
   "source": [
    "driver = webdriver.Chrome('chromedriver.exe', chrome_options=options)\n",
    "# 모든 동작마다 크롬브라우저가 준비될 때 까지 최대 5초씩 대기\n",
    "driver.implicitly_wait(5)"
   ]
  },
  {
   "cell_type": "markdown",
   "metadata": {},
   "source": [
    "## #03. 이미지 수집\n",
    "\n",
    "### 1) 수집을 원하는 페이지로 이동 하기 "
   ]
  },
  {
   "cell_type": "code",
   "execution_count": 37,
   "metadata": {},
   "outputs": [],
   "source": [
    "driver.get(\"https://www.instagram.com/yoona__lim/feed\")\n",
    "time.sleep(3)"
   ]
  },
  {
   "cell_type": "markdown",
   "metadata": {},
   "source": [
    "### 2) 스크롤을 진행하면 이미지 수집"
   ]
  },
  {
   "cell_type": "code",
   "execution_count": 38,
   "metadata": {
    "collapsed": true,
    "jupyter": {
     "outputs_hidden": true
    }
   },
   "outputs": [
    {
     "name": "stdout",
     "output_type": "stream",
     "text": [
      "0001번째 페이지에서 07건 수집 함 >> 누적 데이터 수 : 00007\n",
      "0002번째 페이지에서 07건 수집 함 >> 누적 데이터 수 : 00007\n",
      "0003번째 페이지에서 07건 수집 함 >> 누적 데이터 수 : 00007\n",
      "0004번째 페이지에서 07건 수집 함 >> 누적 데이터 수 : 00007\n",
      "0005번째 페이지에서 07건 수집 함 >> 누적 데이터 수 : 00007\n",
      "0006번째 페이지에서 07건 수집 함 >> 누적 데이터 수 : 00007\n",
      "0007번째 페이지에서 07건 수집 함 >> 누적 데이터 수 : 00007\n",
      "0008번째 페이지에서 07건 수집 함 >> 누적 데이터 수 : 00007\n",
      "0009번째 페이지에서 07건 수집 함 >> 누적 데이터 수 : 00007\n",
      "0010번째 페이지에서 07건 수집 함 >> 누적 데이터 수 : 00007\n"
     ]
    },
    {
     "data": {
      "text/plain": [
       "[<img class=\"FFVAD\" decoding=\"auto\" sizes=\"360px\" src=\"https://scontent-ssn1-1.cdninstagram.com/v/t51.2885-15/e35/p1080x1080/91246385_306870733613460_4816982406498398739_n.jpg?_nc_ht=scontent-ssn1-1.cdninstagram.com&amp;_nc_cat=1&amp;_nc_ohc=2gWswUU--_kAX--s644&amp;oh=b55793ba1f854ec1067ef5d2f84d8ccf&amp;oe=5EAFC15B\" srcset=\"https://scontent-ssn1-1.cdninstagram.com/v/t51.2885-15/sh0.08/e35/p640x640/91246385_306870733613460_4816982406498398739_n.jpg?_nc_ht=scontent-ssn1-1.cdninstagram.com&amp;_nc_cat=1&amp;_nc_ohc=2gWswUU--_kAX--s644&amp;oh=0bd312df70c501b8ca62f740c4da1d4b&amp;oe=5EB005C0 640w,https://scontent-ssn1-1.cdninstagram.com/v/t51.2885-15/sh0.08/e35/p750x750/91246385_306870733613460_4816982406498398739_n.jpg?_nc_ht=scontent-ssn1-1.cdninstagram.com&amp;_nc_cat=1&amp;_nc_ohc=2gWswUU--_kAX--s644&amp;oh=87efac6ee9e0e2597cd4cb7f35785f7e&amp;oe=5EB115C0 750w,https://scontent-ssn1-1.cdninstagram.com/v/t51.2885-15/e35/p1080x1080/91246385_306870733613460_4816982406498398739_n.jpg?_nc_ht=scontent-ssn1-1.cdninstagram.com&amp;_nc_cat=1&amp;_nc_ohc=2gWswUU--_kAX--s644&amp;oh=b55793ba1f854ec1067ef5d2f84d8ccf&amp;oe=5EAFC15B 1080w\" style=\"object-fit: cover;\"/>,\n",
       " <img class=\"FFVAD\" decoding=\"auto\" sizes=\"360px\" src=\"https://scontent-ssn1-1.cdninstagram.com/v/t51.2885-15/e35/p1080x1080/91268888_768268053696922_4846133919698890173_n.jpg?_nc_ht=scontent-ssn1-1.cdninstagram.com&amp;_nc_cat=110&amp;_nc_ohc=EJdpgIgIvYEAX8LOvuR&amp;oh=a5d1aaaab47ed5d92a7b212737beaa5f&amp;oe=5EB0078F\" srcset=\"https://scontent-ssn1-1.cdninstagram.com/v/t51.2885-15/sh0.08/e35/p640x640/91268888_768268053696922_4846133919698890173_n.jpg?_nc_ht=scontent-ssn1-1.cdninstagram.com&amp;_nc_cat=110&amp;_nc_ohc=EJdpgIgIvYEAX8LOvuR&amp;oh=46f9de562d65d6a3c85787ad6c19dba6&amp;oe=5EB2666C 640w,https://scontent-ssn1-1.cdninstagram.com/v/t51.2885-15/sh0.08/e35/p750x750/91268888_768268053696922_4846133919698890173_n.jpg?_nc_ht=scontent-ssn1-1.cdninstagram.com&amp;_nc_cat=110&amp;_nc_ohc=EJdpgIgIvYEAX8LOvuR&amp;oh=be761d77da67970dce5cd0dab0620ec7&amp;oe=5EAFC56C 750w,https://scontent-ssn1-1.cdninstagram.com/v/t51.2885-15/e35/p1080x1080/91268888_768268053696922_4846133919698890173_n.jpg?_nc_ht=scontent-ssn1-1.cdninstagram.com&amp;_nc_cat=110&amp;_nc_ohc=EJdpgIgIvYEAX8LOvuR&amp;oh=a5d1aaaab47ed5d92a7b212737beaa5f&amp;oe=5EB0078F 1080w\" style=\"object-fit: cover;\"/>,\n",
       " <img class=\"FFVAD\" decoding=\"auto\" sizes=\"360px\" src=\"https://scontent-ssn1-1.cdninstagram.com/v/t51.2885-15/e35/p1080x1080/91198174_241359960341099_7955570583651201360_n.jpg?_nc_ht=scontent-ssn1-1.cdninstagram.com&amp;_nc_cat=1&amp;_nc_ohc=KBQnFue6lw0AX-J-0WB&amp;oh=161706645715c26c2fa5d84f276221f9&amp;oe=5EB2A529\" srcset=\"https://scontent-ssn1-1.cdninstagram.com/v/t51.2885-15/sh0.08/e35/p640x640/91198174_241359960341099_7955570583651201360_n.jpg?_nc_ht=scontent-ssn1-1.cdninstagram.com&amp;_nc_cat=1&amp;_nc_ohc=KBQnFue6lw0AX-J-0WB&amp;oh=736a638dafb9e801e91655e79de1f70c&amp;oe=5EB069CE 640w,https://scontent-ssn1-1.cdninstagram.com/v/t51.2885-15/sh0.08/e35/p750x750/91198174_241359960341099_7955570583651201360_n.jpg?_nc_ht=scontent-ssn1-1.cdninstagram.com&amp;_nc_cat=1&amp;_nc_ohc=KBQnFue6lw0AX-J-0WB&amp;oh=deed07641b0f8cd6e42e142880d63404&amp;oe=5EB01CCE 750w,https://scontent-ssn1-1.cdninstagram.com/v/t51.2885-15/e35/p1080x1080/91198174_241359960341099_7955570583651201360_n.jpg?_nc_ht=scontent-ssn1-1.cdninstagram.com&amp;_nc_cat=1&amp;_nc_ohc=KBQnFue6lw0AX-J-0WB&amp;oh=161706645715c26c2fa5d84f276221f9&amp;oe=5EB2A529 1080w\" style=\"object-fit: cover;\"/>,\n",
       " <img class=\"FFVAD\" decoding=\"auto\" sizes=\"360px\" src=\"https://scontent-ssn1-1.cdninstagram.com/v/t51.2885-15/e35/p1080x1080/90206090_208805987106516_2765287109945537598_n.jpg?_nc_ht=scontent-ssn1-1.cdninstagram.com&amp;_nc_cat=100&amp;_nc_ohc=3mraHzBeW74AX-ndC6F&amp;oh=731c6c13d603255bd1cb788f318cd5eb&amp;oe=5EB0B5FA\" srcset=\"https://scontent-ssn1-1.cdninstagram.com/v/t51.2885-15/sh0.08/e35/p640x640/90206090_208805987106516_2765287109945537598_n.jpg?_nc_ht=scontent-ssn1-1.cdninstagram.com&amp;_nc_cat=100&amp;_nc_ohc=3mraHzBeW74AX-ndC6F&amp;oh=05bd19ee475103933d41676b75e29fca&amp;oe=5EB1551D 640w,https://scontent-ssn1-1.cdninstagram.com/v/t51.2885-15/sh0.08/e35/p750x750/90206090_208805987106516_2765287109945537598_n.jpg?_nc_ht=scontent-ssn1-1.cdninstagram.com&amp;_nc_cat=100&amp;_nc_ohc=3mraHzBeW74AX-ndC6F&amp;oh=562af46664f18ef236423ab44070bd38&amp;oe=5EB1081D 750w,https://scontent-ssn1-1.cdninstagram.com/v/t51.2885-15/e35/p1080x1080/90206090_208805987106516_2765287109945537598_n.jpg?_nc_ht=scontent-ssn1-1.cdninstagram.com&amp;_nc_cat=100&amp;_nc_ohc=3mraHzBeW74AX-ndC6F&amp;oh=731c6c13d603255bd1cb788f318cd5eb&amp;oe=5EB0B5FA 1080w\" style=\"object-fit: cover;\"/>,\n",
       " <img class=\"FFVAD\" decoding=\"auto\" sizes=\"360px\" src=\"https://scontent-ssn1-1.cdninstagram.com/v/t51.2885-15/e35/p1080x1080/90715763_2622801721323729_4771056619043239676_n.jpg?_nc_ht=scontent-ssn1-1.cdninstagram.com&amp;_nc_cat=109&amp;_nc_ohc=jK1UDZIoIWMAX8ic99i&amp;oh=4e634f8b18c1199de48de5067b02273b&amp;oe=5EB0703C\" srcset=\"https://scontent-ssn1-1.cdninstagram.com/v/t51.2885-15/sh0.08/e35/p640x640/90715763_2622801721323729_4771056619043239676_n.jpg?_nc_ht=scontent-ssn1-1.cdninstagram.com&amp;_nc_cat=109&amp;_nc_ohc=jK1UDZIoIWMAX8ic99i&amp;oh=734afba7e4641014b95259b3da1d7bb1&amp;oe=5EB0617F 640w,https://scontent-ssn1-1.cdninstagram.com/v/t51.2885-15/sh0.08/e35/p750x750/90715763_2622801721323729_4771056619043239676_n.jpg?_nc_ht=scontent-ssn1-1.cdninstagram.com&amp;_nc_cat=109&amp;_nc_ohc=jK1UDZIoIWMAX8ic99i&amp;oh=6e4aa8facd0d9089680e7e3a07480f58&amp;oe=5EB2E6BB 750w,https://scontent-ssn1-1.cdninstagram.com/v/t51.2885-15/e35/p1080x1080/90715763_2622801721323729_4771056619043239676_n.jpg?_nc_ht=scontent-ssn1-1.cdninstagram.com&amp;_nc_cat=109&amp;_nc_ohc=jK1UDZIoIWMAX8ic99i&amp;oh=4e634f8b18c1199de48de5067b02273b&amp;oe=5EB0703C 1080w\" style=\"object-fit: cover;\"/>,\n",
       " <img class=\"FFVAD\" decoding=\"auto\" sizes=\"360px\" src=\"https://scontent-ssn1-1.cdninstagram.com/v/t51.2885-15/e35/p1080x1080/90834875_230641688314554_8007841900217060531_n.jpg?_nc_ht=scontent-ssn1-1.cdninstagram.com&amp;_nc_cat=1&amp;_nc_ohc=7AS8-9DRS2IAX8-fcPP&amp;oh=c01baf5b42095e359d612ca8a0327759&amp;oe=5EB13CC5\" srcset=\"https://scontent-ssn1-1.cdninstagram.com/v/t51.2885-15/sh0.08/e35/p640x640/90834875_230641688314554_8007841900217060531_n.jpg?_nc_ht=scontent-ssn1-1.cdninstagram.com&amp;_nc_cat=1&amp;_nc_ohc=7AS8-9DRS2IAX8-fcPP&amp;oh=ab84719cefd8d1341e6311696e7332f0&amp;oe=5EB1CC22 640w,https://scontent-ssn1-1.cdninstagram.com/v/t51.2885-15/sh0.08/e35/p750x750/90834875_230641688314554_8007841900217060531_n.jpg?_nc_ht=scontent-ssn1-1.cdninstagram.com&amp;_nc_cat=1&amp;_nc_ohc=7AS8-9DRS2IAX8-fcPP&amp;oh=7c17caf3377a99df15cca5ff34ec801b&amp;oe=5EB1A7A2 750w,https://scontent-ssn1-1.cdninstagram.com/v/t51.2885-15/e35/p1080x1080/90834875_230641688314554_8007841900217060531_n.jpg?_nc_ht=scontent-ssn1-1.cdninstagram.com&amp;_nc_cat=1&amp;_nc_ohc=7AS8-9DRS2IAX8-fcPP&amp;oh=c01baf5b42095e359d612ca8a0327759&amp;oe=5EB13CC5 1080w\" style=\"object-fit: cover;\"/>,\n",
       " <img class=\"FFVAD\" decoding=\"auto\" sizes=\"360px\" src=\"https://scontent-ssn1-1.cdninstagram.com/v/t51.2885-15/e35/p1080x1080/90045990_249288709426937_6577486458233792091_n.jpg?_nc_ht=scontent-ssn1-1.cdninstagram.com&amp;_nc_cat=105&amp;_nc_ohc=7obe5YduFjoAX94Psnj&amp;oh=e32dbe464f1bd16884f4035e01e52d08&amp;oe=5EB15E48\" srcset=\"https://scontent-ssn1-1.cdninstagram.com/v/t51.2885-15/sh0.08/e35/p640x640/90045990_249288709426937_6577486458233792091_n.jpg?_nc_ht=scontent-ssn1-1.cdninstagram.com&amp;_nc_cat=105&amp;_nc_ohc=7obe5YduFjoAX94Psnj&amp;oh=d1f50efcc7621c500f9b99be11ec505f&amp;oe=5EB0A6A3 640w,https://scontent-ssn1-1.cdninstagram.com/v/t51.2885-15/sh0.08/e35/p750x750/90045990_249288709426937_6577486458233792091_n.jpg?_nc_ht=scontent-ssn1-1.cdninstagram.com&amp;_nc_cat=105&amp;_nc_ohc=7obe5YduFjoAX94Psnj&amp;oh=c9174b325e962d4148009f85472ce111&amp;oe=5EB21523 750w,https://scontent-ssn1-1.cdninstagram.com/v/t51.2885-15/e35/p1080x1080/90045990_249288709426937_6577486458233792091_n.jpg?_nc_ht=scontent-ssn1-1.cdninstagram.com&amp;_nc_cat=105&amp;_nc_ohc=7obe5YduFjoAX94Psnj&amp;oh=e32dbe464f1bd16884f4035e01e52d08&amp;oe=5EB15E48 1080w\" style=\"object-fit: cover;\"/>]"
      ]
     },
     "execution_count": 38,
     "metadata": {},
     "output_type": "execute_result"
    }
   ],
   "source": [
    "img_list =[]\n",
    "\n",
    "# 지정된 회차 동안 반복하면서 스크롤을 화면 맨 아래로 이동한다.\n",
    "for i in range(0,10):\n",
    "    \n",
    "    # 현재 브라우저에 표시되고 있는 소스코드 가져오기 \n",
    "    soup = BeautifulSoup(driver.page_source, 'html.parser')\n",
    "    \n",
    "    # srcset이라는 속성을 포함하는 모든 이미지 태그 가져오기  --> 리스트형으로 반환됨\n",
    "    img = soup.select(\"img[srcset]\")\n",
    "    \n",
    "    # 미리 준비한 리스트에 결합시킴\n",
    "    img_list += img\n",
    "    \n",
    "    # 동일한 항목에 대한 중복 제거 ( 집한 -> 중복을 허용하지 않음)\n",
    "    img_list = list(set(img_list))\n",
    "    \n",
    "    # 수집 과정을 출력한다.\n",
    "    print(\"%04d번째 페이지에서 %02d건 수집 함 >> 누적 데이터 수 : %05d\" %(i+1, len(img), len(img_list)))\n",
    "    \n",
    "    # 스크롤을 맨 아래로 이동 \n",
    "    driver.execute_script(\"window.scrollTo(0,document.body.scrollheight);\")\n",
    "    \n",
    "    # 다음 컨텐츠가 로딩 되는 동안 3초씩 대기 \n",
    "    time.sleep(1)\n",
    "\n",
    "img_list    "
   ]
  },
  {
   "cell_type": "markdown",
   "metadata": {},
   "source": [
    "### 2) 이미지 태그에 대한 리스트로 반복 처리 수행"
   ]
  },
  {
   "cell_type": "code",
   "execution_count": 43,
   "metadata": {
    "collapsed": true,
    "jupyter": {
     "outputs_hidden": true
    }
   },
   "outputs": [
    {
     "data": {
      "text/plain": [
       "['https://scontent-ssn1-1.cdninstagram.com/v/t51.2885-15/e35/p1080x1080/90715763_2622801721323729_4771056619043239676_n.jpg?_nc_ht=scontent-ssn1-1.cdninstagram.com&_nc_cat=109&_nc_ohc=jK1UDZIoIWMAX8ic99i&oh=4e634f8b18c1199de48de5067b02273b&oe=5EB0703C',\n",
       " 'https://scontent-ssn1-1.cdninstagram.com/v/t51.2885-15/e35/p1080x1080/91246385_306870733613460_4816982406498398739_n.jpg?_nc_ht=scontent-ssn1-1.cdninstagram.com&_nc_cat=1&_nc_ohc=2gWswUU--_kAX--s644&oh=b55793ba1f854ec1067ef5d2f84d8ccf&oe=5EAFC15B',\n",
       " 'https://scontent-ssn1-1.cdninstagram.com/v/t51.2885-15/e35/p1080x1080/90045990_249288709426937_6577486458233792091_n.jpg?_nc_ht=scontent-ssn1-1.cdninstagram.com&_nc_cat=105&_nc_ohc=7obe5YduFjoAX94Psnj&oh=e32dbe464f1bd16884f4035e01e52d08&oe=5EB15E48',\n",
       " 'https://scontent-ssn1-1.cdninstagram.com/v/t51.2885-15/e35/p1080x1080/90206090_208805987106516_2765287109945537598_n.jpg?_nc_ht=scontent-ssn1-1.cdninstagram.com&_nc_cat=100&_nc_ohc=3mraHzBeW74AX-ndC6F&oh=731c6c13d603255bd1cb788f318cd5eb&oe=5EB0B5FA',\n",
       " 'https://scontent-ssn1-1.cdninstagram.com/v/t51.2885-15/e35/p1080x1080/91268888_768268053696922_4846133919698890173_n.jpg?_nc_ht=scontent-ssn1-1.cdninstagram.com&_nc_cat=110&_nc_ohc=EJdpgIgIvYEAX8LOvuR&oh=a5d1aaaab47ed5d92a7b212737beaa5f&oe=5EB0078F',\n",
       " 'https://scontent-ssn1-1.cdninstagram.com/v/t51.2885-15/e35/p1080x1080/91198174_241359960341099_7955570583651201360_n.jpg?_nc_ht=scontent-ssn1-1.cdninstagram.com&_nc_cat=1&_nc_ohc=KBQnFue6lw0AX-J-0WB&oh=161706645715c26c2fa5d84f276221f9&oe=5EB2A529',\n",
       " 'https://scontent-ssn1-1.cdninstagram.com/v/t51.2885-15/e35/p1080x1080/90834875_230641688314554_8007841900217060531_n.jpg?_nc_ht=scontent-ssn1-1.cdninstagram.com&_nc_cat=1&_nc_ohc=7AS8-9DRS2IAX8-fcPP&oh=c01baf5b42095e359d612ca8a0327759&oe=5EB13CC5']"
      ]
     },
     "execution_count": 43,
     "metadata": {},
     "output_type": "execute_result"
    }
   ],
   "source": [
    "# 이미지의 주소만을 담기 위한\n",
    "src_list =  []\n",
    "for t in img_list:\n",
    "    srcset = t.attrs['srcset']               # srcset 속성 가져오기 \n",
    "    srcset_list = srcset.split(\",\")          # 쉼표 단위로 추출  \n",
    "    item = srcset_list[len(srcset_list)-1]   # 이미지 해상도가 가장 큰 마지막 원소를 선택\n",
    "    url = item[:item.find(\" \")]              # 첫번째 글자부터 마지막 공백문자 전까지 잘라냄\n",
    "    src_list.append(url)                     # 준비한 리스트에 추출결과 넣기 \n",
    "    \n",
    "# 중복 제거를 위해 집한으로 변경 후 리스트로 다시 변환\n",
    "src_list = list(set(src_list))\n",
    "src_list"
   ]
  },
  {
   "cell_type": "markdown",
   "metadata": {},
   "source": [
    "## #04. 이미지 저장하기 \n",
    "\n",
    "### 1) 이미지가 저장될 폴더 생성하기 "
   ]
  },
  {
   "cell_type": "code",
   "execution_count": 40,
   "metadata": {},
   "outputs": [],
   "source": [
    "# 이미지가 저장될 폴더의 이름 만들기 \n",
    "datetime = dt.datetime.now().strftime(\"%y%m%d_%H%M\")\n",
    "dirname = \"instar_%s\"  % (datetime)"
   ]
  },
  {
   "cell_type": "markdown",
   "metadata": {},
   "source": [
    "### 2) 접속 세션 만들기 "
   ]
  },
  {
   "cell_type": "code",
   "execution_count": 41,
   "metadata": {},
   "outputs": [],
   "source": [
    "user_agent = \"Mozilla/5.0 (Linux; Android 5.0; SM-G900P Build/LRX21T) AppleWebKit/537.36 (KHTML, like Gecko) Chrome/80.0.3987.149 Mobile Safari/537.36\"\n",
    "session = requests.Session()\n",
    "session.headers.update({'User-agent':user_agent, 'referer':None})"
   ]
  },
  {
   "cell_type": "markdown",
   "metadata": {},
   "source": [
    "### 3) 이미지 저장하기 "
   ]
  },
  {
   "cell_type": "code",
   "execution_count": 42,
   "metadata": {
    "collapsed": true,
    "jupyter": {
     "outputs_hidden": true
    }
   },
   "outputs": [
    {
     "name": "stdout",
     "output_type": "stream",
     "text": [
      "[OK] instar_200404_1613/0001.jpg(이)가 저장되었습니다.\n",
      "[OK] instar_200404_1613/0002.jpg(이)가 저장되었습니다.\n",
      "[OK] instar_200404_1613/0003.jpg(이)가 저장되었습니다.\n",
      "[OK] instar_200404_1613/0004.jpg(이)가 저장되었습니다.\n",
      "[OK] instar_200404_1613/0005.jpg(이)가 저장되었습니다.\n",
      "[OK] instar_200404_1613/0006.jpg(이)가 저장되었습니다.\n",
      "[OK] instar_200404_1613/0007.jpg(이)가 저장되었습니다.\n"
     ]
    }
   ],
   "source": [
    "# 저장된 이미지 수를 카운트하기 위한 변수\n",
    "count = 0 \n",
    "\n",
    "# 폴더 생성하기 \n",
    "if not os.path.exists(dirname):\n",
    "    os.mkdir(dirname)\n",
    "    \n",
    "for image_url in src_list:\n",
    "    \n",
    "    # 카운트 증가 \n",
    "    count += 1 \n",
    "    \n",
    "    # 파일이 저장될 경로 생성\n",
    "    path = \"%s/%04d.jpg\"  %(dirname, count)\n",
    "    \n",
    "    # 예외처리를 동반한 이미지 다운로드\n",
    "    try:\n",
    "        # 이미지 주소를 다운로드를 위해 stream 모드로 가져온다.\n",
    "        r = session.get(image_url, stream=True)\n",
    "        \n",
    "        # HTTP 상태코드가 성공을 의미하는 값이 아니라면 에러로 간주하고  except 블록으로 강제 이동\n",
    "        if r.status_code != 200 :\n",
    "            raise Exception\n",
    "            \n",
    "        # 추출한 데이터를 바이너리(이진값) 쓰기 모드로 저장  -> 'wb'    \n",
    "        with open(path, 'wb') as f :\n",
    "            f.write(r.raw.read())\n",
    "            print( \"[OK] %s(이)가 저장되었습니다.\" %path)\n",
    "        \n",
    "    except:\n",
    "        # 이미지 다운로드 실패시 다음 이미지를 시도하기 위해 반복의 조건식으로 이동함\n",
    "        print(\"[Error] %s(은)는 저장에 실패했습니다.\" % path)\n",
    "        continue"
   ]
  }
 ],
 "metadata": {
  "kernelspec": {
   "display_name": "Python 3",
   "language": "python",
   "name": "python3"
  },
  "language_info": {
   "codemirror_mode": {
    "name": "ipython",
    "version": 3
   },
   "file_extension": ".py",
   "mimetype": "text/x-python",
   "name": "python",
   "nbconvert_exporter": "python",
   "pygments_lexer": "ipython3",
   "version": "3.7.4"
  }
 },
 "nbformat": 4,
 "nbformat_minor": 4
}
