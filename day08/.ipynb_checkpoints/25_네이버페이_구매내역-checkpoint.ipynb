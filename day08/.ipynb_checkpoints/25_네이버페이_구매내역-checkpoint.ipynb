{
 "cells": [
  {
   "cell_type": "markdown",
   "metadata": {},
   "source": [
    "# 25_네이버페이_구매내역\n",
    "\n",
    "**more 버튼**을 통해 동적으로 컨텐츠를 로드하여 페이지 형식\n",
    "\n",
    "## #01. 필요한 패키지 참조\n",
    "\n",
    "### 1) 패키지 설치 \n",
    "```shell\n",
    "pip install --upgrade selenium\n",
    "```\n",
    "\n",
    "### 2) 패키지 참조"
   ]
  },
  {
   "cell_type": "code",
   "execution_count": 8,
   "metadata": {},
   "outputs": [],
   "source": [
    "import time    # 내장모듈 브라우저가 페이지가 로딩하는 동안 sleep 처리하는 모듈\n",
    "from selenium import webdriver  # 크롬제어를 위한 모듈\n",
    "from selenium.webdriver.support.wait import WebDriverWait\n",
    "from bs4 import BeautifulSoup\n",
    "import pandas as pd\n",
    "from matplotlib import pyplot"
   ]
  },
  {
   "cell_type": "markdown",
   "metadata": {},
   "source": [
    "### #02. 브라우저 제어를 위한 객체 생성\n",
    "\n",
    "**chromedriver.exe**의 경로를 상대/절대 경로 형식으로 지정한다."
   ]
  },
  {
   "cell_type": "code",
   "execution_count": 9,
   "metadata": {},
   "outputs": [],
   "source": [
    "# 객체 생성  --> \"./\"는 혅재 폴더라는 의미\n",
    "driver = webdriver.Chrome('./chromedriver.exe')\n",
    "\n",
    "# 페이지 이동시마다 웹 페이지의 로딩을 최대 5초까지 기다리도록 지정\n",
    "driver.implicitly_wait(5)"
   ]
  },
  {
   "cell_type": "markdown",
   "metadata": {},
   "source": [
    "## 03. 네이버 로그인하기 \n",
    "\n",
    "### 1) 네이버 로그인 페이지로 이동하기 "
   ]
  },
  {
   "cell_type": "code",
   "execution_count": 10,
   "metadata": {},
   "outputs": [],
   "source": [
    "# 네이버 로그인 페이지 접속\n",
    "driver.get('https://nid.naver.com/nidlogin.login')\n",
    "# driver.get('https://signinssl.gmarket.co.kr/login/login')\n",
    "# 접속하는 동안 프로그램 대기(3초)\n",
    "time.sleep(3)"
   ]
  },
  {
   "cell_type": "markdown",
   "metadata": {},
   "source": [
    "### 2) 네이버 로그인 아이디, 비밀번호 입력\n",
    "\n",
    "#### 자신의 아이디와 비번를 변수로 지정"
   ]
  },
  {
   "cell_type": "code",
   "execution_count": 11,
   "metadata": {},
   "outputs": [],
   "source": [
    "myid = 'nojm73'\n",
    "mypw='hanbitedu1856'"
   ]
  },
  {
   "cell_type": "markdown",
   "metadata": {},
   "source": [
    "#### 방법(1)\n",
    "\n",
    "현재 크롬에 떠 있는 웹 페이지에서 id 속성 값이 id인 element를 찾은 후 입력값을 지우고(clear)  아이디와 비밀번호 문자열에 대한 키 입력을 전달(send_keys)하다.\n",
    "\n",
    "> 네이버의 경우 자동로그인 차단기술이 적용되어 아래의 코드는 동작하지 않는다."
   ]
  },
  {
   "cell_type": "code",
   "execution_count": 12,
   "metadata": {},
   "outputs": [],
   "source": [
    "# elem_login = driver.find_element_by_css_selector(\"#id\")\n",
    "# elem_login.clear()\n",
    "# elem_login.send_keys(myid)\n",
    "\n",
    "# elem_login = driver.find_element_by_css_selector(\"#pw\")\n",
    "# elem_login.clear()\n",
    "# elem_login.send_keys(mypw)"
   ]
  },
  {
   "cell_type": "markdown",
   "metadata": {},
   "source": [
    "#### 방법(2)\n",
    "아이디와 비밀번호가 강제로 입력되는 자바스크립트 소스코드를 파이썬으로 강제 실행 시킨다."
   ]
  },
  {
   "cell_type": "code",
   "execution_count": 13,
   "metadata": {},
   "outputs": [],
   "source": [
    "# 전체문서(document)에서 id값에 의해 (ById) 요소(Element)를 가져온 후(get) 입력값(value)을 지정\n",
    "script = \"document.getElementById('id').value='%s'\"\n",
    "driver.execute_script(script % myid)\n",
    "\n",
    "script = \"document.getElementById('pw').value='%s'\"\n",
    "driver.execute_script(script % mypw)"
   ]
  },
  {
   "cell_type": "markdown",
   "metadata": {},
   "source": [
    "### 3) 로그인 버튼 클릭 "
   ]
  },
  {
   "cell_type": "code",
   "execution_count": 14,
   "metadata": {},
   "outputs": [],
   "source": [
    "# CSS 셀렉터가 \".btn_global\" 인 요소 취득하여 클릭함\n",
    "driver.find_element_by_css_selector(\".btn_global\").click()"
   ]
  },
  {
   "cell_type": "markdown",
   "metadata": {},
   "source": [
    "### 4) 로그인 완료 대기 \n",
    "\n",
    "로그인 후 메인 페이지로 이동한 후, id속성이  `account`인 요소가 로드될 때 까지 최대 3초간 대기 \n",
    "\n",
    "3초 이내에 해당 요소가 로드되지 않는다면 로그인에 실패한 것으로 간주하고 에러가 발생함."
   ]
  },
  {
   "cell_type": "code",
   "execution_count": 15,
   "metadata": {},
   "outputs": [],
   "source": [
    "try:\n",
    "    WebDriverWait(driver, 3).until(lambda x: x.find_element_by_css_selector(\"#account\"))\n",
    "except Exception as ex:\n",
    "    print(\"로그인 실패 >> \", ex)\n",
    "    quit()"
   ]
  },
  {
   "cell_type": "markdown",
   "metadata": {},
   "source": [
    "## 04. 네이버 페이 구매내역 가져오기 \n",
    "\n",
    "### 1) 페이지 이동"
   ]
  },
  {
   "cell_type": "code",
   "execution_count": 16,
   "metadata": {},
   "outputs": [
    {
     "name": "stdout",
     "output_type": "stream",
     "text": [
      "NaverPay 페이지의 소스코드 구성이 변경되어 크롤링이 불가능합니다. >>  Message: \n",
      "\n"
     ]
    }
   ],
   "source": [
    "# 네이버 페이 메인으로 이동\n",
    "driver.get(\"https://order.pay.naver.com/home\")\n",
    "\n",
    "try:\n",
    "    WebDriverWait(driver, 3).until(lambda x: x.find_element_by_css_selector(\"#_listContentArea\"))\n",
    "except Exception as ex:\n",
    "    print(\"NaverPay 페이지의 소스코드 구성이 변경되어 크롤링이 불가능합니다. >> \", ex)\n",
    "    quit()"
   ]
  },
  {
   "cell_type": "markdown",
   "metadata": {},
   "source": [
    "### 2) more 버튼이 사라질 때 까지 계속해서 클릭하기 \n",
    "\n",
    "more 버튼을 몇 회 클릭할 지는 예측 할 수 없으므로 무한 루프로 지정하다.\n",
    "\n",
    "more 버튼을 찾지 못하면 에러를 발생시켜 except 블록으로 이동하고, more버튼이 화면 상에서 숨김처리가 될 경우 강제로 반복을 중단한다."
   ]
  },
  {
   "cell_type": "code",
   "execution_count": 17,
   "metadata": {},
   "outputs": [
    {
     "name": "stdout",
     "output_type": "stream",
     "text": [
      "more 버튼을 찾을 수 없습니다. >>  Message: \n",
      "\n"
     ]
    }
   ],
   "source": [
    "# \"more\" 버튼이 사라질때 까지 무한 반복\n",
    "count = 0 \n",
    "while True:\n",
    "    try:\n",
    "        # 버튼을 감싸고 있는 상위 요소 \"#_moreButton\"를 3초 이내에 취득\n",
    "        # -> 취득하지 못할 경우 except 블록으로 이동\n",
    "        more_button = WebDriverWait(driver,3).until(lambda x: x.find_element_by_css_selector(\"#_moreButton\"))\n",
    "        \n",
    "        # 취득한 요소의 HTML 속성들을 딕셔너리 형태로 추출\n",
    "        attrs = {}\n",
    "        for item in more_button.get_property('attributes'):\n",
    "            attrs[item['name']] = item['value']\n",
    "            \n",
    "        # more 버튼이 사라졌다면 강제로 에러를 발생시킨다.  --> Except 블록으로 제어가 이동함\n",
    "        if 'style' in attrs:\n",
    "            raise Exception\n",
    "            \n",
    "        # more 버튼을 취득하여 강제로 클릭시킴\n",
    "        driver.find_element_by_css_selector(\".button_viewmore\").click()\n",
    "        \n",
    "        # 카운트\n",
    "        count += 1\n",
    "        print(\"%d회 more 버튼이 클릭되었습니다.\" % count)\n",
    "    except Exception as ex :\n",
    "        # 버튼을 취급하지 못했다면 ?\n",
    "        print(\"more 버튼을 찾을 수 없습니다. >> \" , ex)\n",
    "        # 반복의 강제 중단\n",
    "        break"
   ]
  },
  {
   "cell_type": "markdown",
   "metadata": {},
   "source": [
    "### 3) 크롬 브라우저에 나타나는 HTML 태그 가져오기 "
   ]
  },
  {
   "cell_type": "code",
   "execution_count": 18,
   "metadata": {},
   "outputs": [
    {
     "name": "stdout",
     "output_type": "stream",
     "text": [
      "네이버 페이를 통한 구매내역이 없습니다.\n"
     ]
    },
    {
     "data": {
      "text/plain": [
       "[]"
      ]
     },
     "execution_count": 18,
     "metadata": {},
     "output_type": "execute_result"
    }
   ],
   "source": [
    "# 가져온 소스코드를 분석하기 위해 BeautifulSoup 객체 생성\n",
    "soup = BeautifulSoup(driver.page_source, \"html.parser\")\n",
    "\n",
    "# 상품 정보 요소들의 List를 추출\n",
    "goods = soup.select('.goods_pay_item')\n",
    "\n",
    "# 브라우저 닫기\n",
    "driver.quit()\n",
    "\n",
    "if not goods:\n",
    "    print('네이버 페이를 통한 구매내역이 없습니다.')\n",
    "    quit()\n",
    "    \n",
    "goods    "
   ]
  },
  {
   "cell_type": "markdown",
   "metadata": {},
   "source": [
    "## #04. 네이버 페이 주문내역 데이터 분석\n",
    "\n",
    "### 1) 가져온 HTML로 부터 주문내역에 대한 리스트 생성\n",
    "\n",
    "단계별로 `print()`함수를 사용하여 추출되는 값을 확인한다."
   ]
  },
  {
   "cell_type": "code",
   "execution_count": 19,
   "metadata": {},
   "outputs": [],
   "source": [
    "# 수집 결과를 저장하기 위해 빈 리스트 생성\n",
    "pay_list = []\n",
    "\n",
    "# 상품정보의 수 만큼 반복\n",
    "for g in goods:\n",
    "    # 상품명은 요소 안에 유일하므로 select()가 리턴하는 리스트에서 0번째 원소에 바로 접근\n",
    "    name = g.select(\".name\")[0].text.strip()\n",
    "    name = name.replace(\"\\n\",\" \")\n",
    "    name = name.replace(\"\\t\",\"\")\n",
    "    name = name.strip()\n",
    "    # print(name)\n",
    "    \n",
    "    # 가격정보 얻기 -> 문자열이므로 정수형태로 형 변환 필요\n",
    "    price = g.select(\".info > li\")[0].text.strip()\n",
    "    price = price.replace(\"상품금액\",\"\")\n",
    "    price = price.replace(\",\",\"\")\n",
    "    price = price.replace(\"원\",\"\")\n",
    "    price = int(price)\n",
    "    # print(price)\n",
    "    \n",
    "    # 구매날짜\n",
    "    date = g.select(\".info > li\")[1].text.strip()\n",
    "    date = date.replace(\"상품구매날짜\",\"\")\n",
    "    date = date.strip()\n",
    "    #print(date)\n",
    "    \n",
    "    \n",
    "    # 판매자 이름\n",
    "    seller = g.select(\".seller\")[0].text.strip()\n",
    "    #print(seller)\n",
    "    \n",
    "    # 판매자 연락처\n",
    "    seller_tel = g.select(\".tel\")[0].text.strip()\n",
    "    #print(seller_tel)\n",
    "    \n",
    "    # 추출한 정보를 딕셔너리로 묶음.\n",
    "    good_dict = {'구매날짜' : date, '상품명' : name, '금액' : price, '판매처' : seller, '연락처' : seller_tel}\n",
    "    #print(good-dict)\n",
    "    \n",
    "    # 딕셔너리를 리스트로 병합\n",
    "    pay_list.append(good_dict)\n",
    "    \n",
    "pay_list"
   ]
  },
  {
   "cell_type": "markdown",
   "metadata": {},
   "source": [
    "### 2) 데이터 프레임으로 변환"
   ]
  },
  {
   "cell_type": "code",
   "execution_count": null,
   "metadata": {},
   "outputs": [],
   "source": [
    "df = pd.DataFrame(pay_list)\n",
    "df"
   ]
  },
  {
   "cell_type": "markdown",
   "metadata": {},
   "source": [
    "### 3) 구매날짜를 DateTime 객체로 변환\n",
    "\n",
    "#### 구매날짜 컬럼에 대한 타입 확인"
   ]
  },
  {
   "cell_type": "code",
   "execution_count": null,
   "metadata": {},
   "outputs": [],
   "source": [
    "df['구매날짜']"
   ]
  },
  {
   "cell_type": "markdown",
   "metadata": {},
   "source": [
    "####  구매날짜 컬럼 타입 변환\n",
    "\n",
    "구매날짜 컬럼 데이터와 현재 형식(format)을 알려 주면 그 형식에서 년, 월, 일을 추출하여 날짜 객체로 반환한다."
   ]
  },
  {
   "cell_type": "code",
   "execution_count": null,
   "metadata": {},
   "outputs": [],
   "source": [
    "df['구매날짜'] =  pd.to_datetime(df['구매날짜'],format=('%Y.%m.%d'))\n",
    "df['구매날짜']"
   ]
  },
  {
   "cell_type": "markdown",
   "metadata": {},
   "source": [
    "### 4) 구매 날짜별 정렬"
   ]
  },
  {
   "cell_type": "code",
   "execution_count": null,
   "metadata": {},
   "outputs": [],
   "source": [
    "df.sort_values('구매날짜', inplace=True)\n",
    "df"
   ]
  },
  {
   "cell_type": "markdown",
   "metadata": {},
   "source": [
    "### 5) 년, 월, 일로 그룹화\n",
    "\n",
    "\"년/월\"  형식의 값을 갖는 추출한 새로운 컬럼 생성"
   ]
  },
  {
   "cell_type": "code",
   "execution_count": null,
   "metadata": {},
   "outputs": [],
   "source": [
    "# DateTime 객체인 구매날짜 컬럼값으로 strftime()함수를 사용\n",
    "df['년/월'] = df['구매날짜'].dt.strftime('%Y/%m')\n",
    "df"
   ]
  },
  {
   "cell_type": "code",
   "execution_count": null,
   "metadata": {},
   "outputs": [],
   "source": [
    "result_df = df.filter(['년/월','금액'])\n",
    "result_df"
   ]
  },
  {
   "cell_type": "markdown",
   "metadata": {},
   "source": [
    "#### \"년/월\" 컬럼값이 동일한 항목끼리 그룹핑, 가격필드는 합계"
   ]
  },
  {
   "cell_type": "code",
   "execution_count": null,
   "metadata": {},
   "outputs": [],
   "source": [
    "result_df = df.groupby('년/월').sum()\n",
    "result_df"
   ]
  },
  {
   "cell_type": "markdown",
   "metadata": {},
   "source": [
    "## #05. 분석 결과 시각화"
   ]
  },
  {
   "cell_type": "code",
   "execution_count": null,
   "metadata": {},
   "outputs": [],
   "source": [
    "pyplot.rcParams[\"font.family\"] = 'nanumGothic'  # 사용할 폰트 이름\n",
    "pyplot.rcparams[\"font.size\"] = 16               # 글자크기\n",
    "pyplot.rcparams[\"figure.figsize\"] = (24,12)     # 그래프 크기 (inch)\n",
    "\n",
    "result_df.plot(rot=30, marker=\"o\")              # 선 그래프 지정\n",
    "pyplot.grid()                                   # 배경 격자 표시\n",
    "pyplot.legend()                                 # 범주 표시 \n",
    "pyplot.title(\"네이버패이를 통한 지출현황\")       # 그래프 제목\n",
    "pyplot.ylabel(\"가격\")                           # y축 텍스트 라벨  \n",
    "pyplot.xlabel(\"년/월\")                          # x축 텍스트 라벨  \n",
    "\n",
    "xpos = list(range(0, len9result_df.index))      # x축에 대한 좌표 리스트 (0,1,2,3,...)\n",
    "xvars = list(result_df.index)                   # x축 좌표에 표시될 텍스트 리스트 (날짜값)  \n",
    "pyplot.xticks(xpos, xvars)                      # x축 텍스트 표시\n",
    "\n",
    "# 그래프의 각 좌표에 텍스트 표시하기 \n",
    "# i -> 금액 리스트의 인덱스  --> x축 좌표\n",
    "# v -> 실제 값  --> y축 좌표\n",
    "for i, v in enumerate(list(result-df('금액'))):\n",
    "    txt = \"%d만원\" %(v/10000)\n",
    "    pyplot.text(i, v, txt, fontsize=14, color='#ff0000',\n",
    "               horizontalalignment='center', varticalalignment='bottom')\n",
    "    \n",
    "pyplot.show()    "
   ]
  },
  {
   "cell_type": "code",
   "execution_count": null,
   "metadata": {},
   "outputs": [],
   "source": []
  },
  {
   "cell_type": "code",
   "execution_count": null,
   "metadata": {},
   "outputs": [],
   "source": []
  }
 ],
 "metadata": {
  "kernelspec": {
   "display_name": "Python 3",
   "language": "python",
   "name": "python3"
  },
  "language_info": {
   "codemirror_mode": {
    "name": "ipython",
    "version": 3
   },
   "file_extension": ".py",
   "mimetype": "text/x-python",
   "name": "python",
   "nbconvert_exporter": "python",
   "pygments_lexer": "ipython3",
   "version": "3.7.4"
  }
 },
 "nbformat": 4,
 "nbformat_minor": 4
}
