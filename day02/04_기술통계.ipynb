{
 "cells": [
  {
   "cell_type": "markdown",
   "metadata": {},
   "source": [
    "# 04_기술통계\n",
    "\n",
    "자료를 그래프나 숫자 등으로 요약한느 통계적 행위 및 관련 방법\n",
    "\n",
    "데이터를 요약하고 시각화해서 잘 설명하는 것이 중점을 두며 데이터에 대해서 쉽게 설명하기 위해서 시각화를 많이 활용한다.\n",
    "\n",
    "기술 통계에서 기본적으로 사용하는 시각화 자료들을 박스플롯(상자그림), 도수분포표, 히스토그램이 있으며, 이를 기반으로 \n",
    "사실을 객과적으로 확인하는 것을 중점으로 한다.\n",
    "\n",
    "## #01. 기술통계 절차\n",
    "\n",
    "1. 데이터의 전체 크기와 형태\n",
    "    - 행과 열의 수를 확인한다.\n",
    "    - 10만건의 데이터 전체를 출력하는 것은 매우 부담이 큰 처리이므로 상위 n건, 하위 n건의 일부만을 확인한다.\n",
    "1. 집단의 특성을 잘 나타내는 요약 통계량을 확인한다.\n",
    "    - 평균, 중앙값, 표준편차, 범위(최대값~최소값), 사분위수 등을 확인한다.\n",
    "    - 요약통계량을 상자그림으로 시각화하여 확인한다.\n",
    "1. 전체 데이터의 데이터 분포를 확인한다.\n",
    "    - 구간별 자료의 개수를 나타내는 표 (=도수분포표)를 산정한다.\n",
    "    - 도수 분포표를 그래프로 표현한 히스토그램을 확인한다."
   ]
  },
  {
   "cell_type": "markdown",
   "metadata": {},
   "source": [
    "## #02. 필요한 패키지 및 샘플 데이터 준비\n",
    "\n",
    "### 1) 패키지 참조하기"
   ]
  },
  {
   "cell_type": "code",
   "execution_count": 28,
   "metadata": {},
   "outputs": [],
   "source": [
    "from pandas import DataFrame\n",
    "from pandas import read_csv\n",
    "from matplotlib import pyplot  "
   ]
  },
  {
   "cell_type": "markdown",
   "metadata": {},
   "source": [
    "### 2) 샘플 데이터 가져오기\n",
    "\n",
    "기술통계 수치값, 상자그림 확인을 위해 학생 10000명의 자료를 가상으로 표현한 샘플 데이터 "
   ]
  },
  {
   "cell_type": "code",
   "execution_count": 29,
   "metadata": {},
   "outputs": [
    {
     "data": {
      "text/html": [
       "<div>\n",
       "<style scoped>\n",
       "    .dataframe tbody tr th:only-of-type {\n",
       "        vertical-align: middle;\n",
       "    }\n",
       "\n",
       "    .dataframe tbody tr th {\n",
       "        vertical-align: top;\n",
       "    }\n",
       "\n",
       "    .dataframe thead th {\n",
       "        text-align: right;\n",
       "    }\n",
       "</style>\n",
       "<table border=\"1\" class=\"dataframe\">\n",
       "  <thead>\n",
       "    <tr style=\"text-align: right;\">\n",
       "      <th></th>\n",
       "      <th>이름</th>\n",
       "      <th>학년</th>\n",
       "      <th>성별</th>\n",
       "      <th>국어</th>\n",
       "      <th>영어</th>\n",
       "      <th>수학</th>\n",
       "      <th>과학</th>\n",
       "    </tr>\n",
       "  </thead>\n",
       "  <tbody>\n",
       "    <tr>\n",
       "      <th>0</th>\n",
       "      <td>철수</td>\n",
       "      <td>1</td>\n",
       "      <td>남자</td>\n",
       "      <td>98</td>\n",
       "      <td>NaN</td>\n",
       "      <td>88.0</td>\n",
       "      <td>64.0</td>\n",
       "    </tr>\n",
       "    <tr>\n",
       "      <th>1</th>\n",
       "      <td>영희</td>\n",
       "      <td>2</td>\n",
       "      <td>여자</td>\n",
       "      <td>88</td>\n",
       "      <td>90.0</td>\n",
       "      <td>62.0</td>\n",
       "      <td>72.0</td>\n",
       "    </tr>\n",
       "    <tr>\n",
       "      <th>2</th>\n",
       "      <td>민수</td>\n",
       "      <td>1</td>\n",
       "      <td>남자</td>\n",
       "      <td>92</td>\n",
       "      <td>70.0</td>\n",
       "      <td>NaN</td>\n",
       "      <td>NaN</td>\n",
       "    </tr>\n",
       "    <tr>\n",
       "      <th>3</th>\n",
       "      <td>수현</td>\n",
       "      <td>3</td>\n",
       "      <td>여자</td>\n",
       "      <td>63</td>\n",
       "      <td>60.0</td>\n",
       "      <td>31.0</td>\n",
       "      <td>70.0</td>\n",
       "    </tr>\n",
       "    <tr>\n",
       "      <th>4</th>\n",
       "      <td>호영</td>\n",
       "      <td>4</td>\n",
       "      <td>남자</td>\n",
       "      <td>120</td>\n",
       "      <td>50.0</td>\n",
       "      <td>NaN</td>\n",
       "      <td>88.0</td>\n",
       "    </tr>\n",
       "  </tbody>\n",
       "</table>\n",
       "</div>"
      ],
      "text/plain": [
       "   이름  학년  성별   국어    영어    수학    과학\n",
       "0  철수   1  남자   98   NaN  88.0  64.0\n",
       "1  영희   2  여자   88  90.0  62.0  72.0\n",
       "2  민수   1  남자   92  70.0   NaN   NaN\n",
       "3  수현   3  여자   63  60.0  31.0  70.0\n",
       "4  호영   4  남자  120  50.0   NaN  88.0"
      ]
     },
     "execution_count": 29,
     "metadata": {},
     "output_type": "execute_result"
    }
   ],
   "source": [
    "성적표csv = read_csv(\"http://itpaper.co.kr/demo/py/grade.csv\", encoding=\"euc-kr\")\n",
    "성적표csv"
   ]
  },
  {
   "cell_type": "markdown",
   "metadata": {},
   "source": [
    "### 3) 성적표 데이터 전처리"
   ]
  },
  {
   "cell_type": "code",
   "execution_count": 30,
   "metadata": {},
   "outputs": [
    {
     "data": {
      "text/html": [
       "<div>\n",
       "<style scoped>\n",
       "    .dataframe tbody tr th:only-of-type {\n",
       "        vertical-align: middle;\n",
       "    }\n",
       "\n",
       "    .dataframe tbody tr th {\n",
       "        vertical-align: top;\n",
       "    }\n",
       "\n",
       "    .dataframe thead th {\n",
       "        text-align: right;\n",
       "    }\n",
       "</style>\n",
       "<table border=\"1\" class=\"dataframe\">\n",
       "  <thead>\n",
       "    <tr style=\"text-align: right;\">\n",
       "      <th></th>\n",
       "      <th>이름</th>\n",
       "      <th>학년</th>\n",
       "      <th>성별</th>\n",
       "      <th>국어</th>\n",
       "      <th>영어</th>\n",
       "      <th>수학</th>\n",
       "      <th>과학</th>\n",
       "    </tr>\n",
       "  </thead>\n",
       "  <tbody>\n",
       "    <tr>\n",
       "      <th>철수</th>\n",
       "      <td>철수</td>\n",
       "      <td>1</td>\n",
       "      <td>남자</td>\n",
       "      <td>98</td>\n",
       "      <td>NaN</td>\n",
       "      <td>88.0</td>\n",
       "      <td>64.0</td>\n",
       "    </tr>\n",
       "    <tr>\n",
       "      <th>영희</th>\n",
       "      <td>영희</td>\n",
       "      <td>2</td>\n",
       "      <td>여자</td>\n",
       "      <td>88</td>\n",
       "      <td>90.0</td>\n",
       "      <td>62.0</td>\n",
       "      <td>72.0</td>\n",
       "    </tr>\n",
       "    <tr>\n",
       "      <th>민수</th>\n",
       "      <td>민수</td>\n",
       "      <td>1</td>\n",
       "      <td>남자</td>\n",
       "      <td>92</td>\n",
       "      <td>70.0</td>\n",
       "      <td>NaN</td>\n",
       "      <td>NaN</td>\n",
       "    </tr>\n",
       "    <tr>\n",
       "      <th>수현</th>\n",
       "      <td>수현</td>\n",
       "      <td>3</td>\n",
       "      <td>여자</td>\n",
       "      <td>63</td>\n",
       "      <td>60.0</td>\n",
       "      <td>31.0</td>\n",
       "      <td>70.0</td>\n",
       "    </tr>\n",
       "    <tr>\n",
       "      <th>호영</th>\n",
       "      <td>호영</td>\n",
       "      <td>4</td>\n",
       "      <td>남자</td>\n",
       "      <td>120</td>\n",
       "      <td>50.0</td>\n",
       "      <td>NaN</td>\n",
       "      <td>88.0</td>\n",
       "    </tr>\n",
       "  </tbody>\n",
       "</table>\n",
       "</div>"
      ],
      "text/plain": [
       "    이름  학년  성별   국어    영어    수학    과학\n",
       "철수  철수   1  남자   98   NaN  88.0  64.0\n",
       "영희  영희   2  여자   88  90.0  62.0  72.0\n",
       "민수  민수   1  남자   92  70.0   NaN   NaN\n",
       "수현  수현   3  여자   63  60.0  31.0  70.0\n",
       "호영  호영   4  남자  120  50.0   NaN  88.0"
      ]
     },
     "execution_count": 30,
     "metadata": {},
     "output_type": "execute_result"
    }
   ],
   "source": [
    "현재인덱스 = list(성적표csv.index)\n",
    "이름 = list(성적표csv['이름'])\n",
    "\n",
    "indexDict = {}\n",
    "for i, v in enumerate(이름):\n",
    "    # `이름`의 i번째에 대응되는 항목을 `현재인덱스`에서 가져옴\n",
    "    before = 현재인덱스[i];\n",
    "    indexDict[before] = v\n",
    "    \n",
    "성적표 = 성적표csv.rename(index=indexDict)\n",
    "성적표"
   ]
  },
  {
   "cell_type": "markdown",
   "metadata": {},
   "source": [
    "예제에서 사용 되지 않은 컬럼 삭제"
   ]
  },
  {
   "cell_type": "code",
   "execution_count": 31,
   "metadata": {},
   "outputs": [
    {
     "data": {
      "text/html": [
       "<div>\n",
       "<style scoped>\n",
       "    .dataframe tbody tr th:only-of-type {\n",
       "        vertical-align: middle;\n",
       "    }\n",
       "\n",
       "    .dataframe tbody tr th {\n",
       "        vertical-align: top;\n",
       "    }\n",
       "\n",
       "    .dataframe thead th {\n",
       "        text-align: right;\n",
       "    }\n",
       "</style>\n",
       "<table border=\"1\" class=\"dataframe\">\n",
       "  <thead>\n",
       "    <tr style=\"text-align: right;\">\n",
       "      <th></th>\n",
       "      <th>국어</th>\n",
       "      <th>영어</th>\n",
       "      <th>수학</th>\n",
       "      <th>과학</th>\n",
       "    </tr>\n",
       "  </thead>\n",
       "  <tbody>\n",
       "    <tr>\n",
       "      <th>철수</th>\n",
       "      <td>98</td>\n",
       "      <td>NaN</td>\n",
       "      <td>88.0</td>\n",
       "      <td>64.0</td>\n",
       "    </tr>\n",
       "    <tr>\n",
       "      <th>영희</th>\n",
       "      <td>88</td>\n",
       "      <td>90.0</td>\n",
       "      <td>62.0</td>\n",
       "      <td>72.0</td>\n",
       "    </tr>\n",
       "    <tr>\n",
       "      <th>민수</th>\n",
       "      <td>92</td>\n",
       "      <td>70.0</td>\n",
       "      <td>NaN</td>\n",
       "      <td>NaN</td>\n",
       "    </tr>\n",
       "    <tr>\n",
       "      <th>수현</th>\n",
       "      <td>63</td>\n",
       "      <td>60.0</td>\n",
       "      <td>31.0</td>\n",
       "      <td>70.0</td>\n",
       "    </tr>\n",
       "    <tr>\n",
       "      <th>호영</th>\n",
       "      <td>120</td>\n",
       "      <td>50.0</td>\n",
       "      <td>NaN</td>\n",
       "      <td>88.0</td>\n",
       "    </tr>\n",
       "  </tbody>\n",
       "</table>\n",
       "</div>"
      ],
      "text/plain": [
       "     국어    영어    수학    과학\n",
       "철수   98   NaN  88.0  64.0\n",
       "영희   88  90.0  62.0  72.0\n",
       "민수   92  70.0   NaN   NaN\n",
       "수현   63  60.0  31.0  70.0\n",
       "호영  120  50.0   NaN  88.0"
      ]
     },
     "execution_count": 31,
     "metadata": {},
     "output_type": "execute_result"
    }
   ],
   "source": [
    "성적표.drop(['이름','성별','학년'], axis=1, inplace=True)\n",
    "성적표"
   ]
  },
  {
   "cell_type": "markdown",
   "metadata": {},
   "source": [
    "## #03. 데이터의 전체 크기와 형태 확인\n",
    "\n",
    "### 1) 데이터프레임의 전체 크기 조회\n",
    "\n",
    "조회 결과는 튜플 타입으로 리턴된다."
   ]
  },
  {
   "cell_type": "code",
   "execution_count": 32,
   "metadata": {},
   "outputs": [
    {
     "name": "stdout",
     "output_type": "stream",
     "text": [
      "행의 크기 =  5\n",
      "열의 크기 =  4\n"
     ]
    }
   ],
   "source": [
    "행,열 = 성적표.shape\n",
    "print(\"행의 크기 = \", 행)\n",
    "print(\"열의 크기 = \", 열)"
   ]
  },
  {
   "cell_type": "markdown",
   "metadata": {},
   "source": [
    "### #2) 데이터의 일부만 확인하기\n",
    "\n",
    "#### 앞 부분의 5건만 확인"
   ]
  },
  {
   "cell_type": "code",
   "execution_count": 33,
   "metadata": {},
   "outputs": [
    {
     "data": {
      "text/html": [
       "<div>\n",
       "<style scoped>\n",
       "    .dataframe tbody tr th:only-of-type {\n",
       "        vertical-align: middle;\n",
       "    }\n",
       "\n",
       "    .dataframe tbody tr th {\n",
       "        vertical-align: top;\n",
       "    }\n",
       "\n",
       "    .dataframe thead th {\n",
       "        text-align: right;\n",
       "    }\n",
       "</style>\n",
       "<table border=\"1\" class=\"dataframe\">\n",
       "  <thead>\n",
       "    <tr style=\"text-align: right;\">\n",
       "      <th></th>\n",
       "      <th>국어</th>\n",
       "      <th>영어</th>\n",
       "      <th>수학</th>\n",
       "      <th>과학</th>\n",
       "    </tr>\n",
       "  </thead>\n",
       "  <tbody>\n",
       "    <tr>\n",
       "      <th>철수</th>\n",
       "      <td>98</td>\n",
       "      <td>NaN</td>\n",
       "      <td>88.0</td>\n",
       "      <td>64.0</td>\n",
       "    </tr>\n",
       "    <tr>\n",
       "      <th>영희</th>\n",
       "      <td>88</td>\n",
       "      <td>90.0</td>\n",
       "      <td>62.0</td>\n",
       "      <td>72.0</td>\n",
       "    </tr>\n",
       "    <tr>\n",
       "      <th>민수</th>\n",
       "      <td>92</td>\n",
       "      <td>70.0</td>\n",
       "      <td>NaN</td>\n",
       "      <td>NaN</td>\n",
       "    </tr>\n",
       "    <tr>\n",
       "      <th>수현</th>\n",
       "      <td>63</td>\n",
       "      <td>60.0</td>\n",
       "      <td>31.0</td>\n",
       "      <td>70.0</td>\n",
       "    </tr>\n",
       "    <tr>\n",
       "      <th>호영</th>\n",
       "      <td>120</td>\n",
       "      <td>50.0</td>\n",
       "      <td>NaN</td>\n",
       "      <td>88.0</td>\n",
       "    </tr>\n",
       "  </tbody>\n",
       "</table>\n",
       "</div>"
      ],
      "text/plain": [
       "     국어    영어    수학    과학\n",
       "철수   98   NaN  88.0  64.0\n",
       "영희   88  90.0  62.0  72.0\n",
       "민수   92  70.0   NaN   NaN\n",
       "수현   63  60.0  31.0  70.0\n",
       "호영  120  50.0   NaN  88.0"
      ]
     },
     "execution_count": 33,
     "metadata": {},
     "output_type": "execute_result"
    }
   ],
   "source": [
    "성적표.head()"
   ]
  },
  {
   "cell_type": "markdown",
   "metadata": {},
   "source": [
    "####  뒷 부분의 5건만 확인"
   ]
  },
  {
   "cell_type": "code",
   "execution_count": 34,
   "metadata": {},
   "outputs": [
    {
     "data": {
      "text/html": [
       "<div>\n",
       "<style scoped>\n",
       "    .dataframe tbody tr th:only-of-type {\n",
       "        vertical-align: middle;\n",
       "    }\n",
       "\n",
       "    .dataframe tbody tr th {\n",
       "        vertical-align: top;\n",
       "    }\n",
       "\n",
       "    .dataframe thead th {\n",
       "        text-align: right;\n",
       "    }\n",
       "</style>\n",
       "<table border=\"1\" class=\"dataframe\">\n",
       "  <thead>\n",
       "    <tr style=\"text-align: right;\">\n",
       "      <th></th>\n",
       "      <th>국어</th>\n",
       "      <th>영어</th>\n",
       "      <th>수학</th>\n",
       "      <th>과학</th>\n",
       "    </tr>\n",
       "  </thead>\n",
       "  <tbody>\n",
       "    <tr>\n",
       "      <th>철수</th>\n",
       "      <td>98</td>\n",
       "      <td>NaN</td>\n",
       "      <td>88.0</td>\n",
       "      <td>64.0</td>\n",
       "    </tr>\n",
       "    <tr>\n",
       "      <th>영희</th>\n",
       "      <td>88</td>\n",
       "      <td>90.0</td>\n",
       "      <td>62.0</td>\n",
       "      <td>72.0</td>\n",
       "    </tr>\n",
       "    <tr>\n",
       "      <th>민수</th>\n",
       "      <td>92</td>\n",
       "      <td>70.0</td>\n",
       "      <td>NaN</td>\n",
       "      <td>NaN</td>\n",
       "    </tr>\n",
       "    <tr>\n",
       "      <th>수현</th>\n",
       "      <td>63</td>\n",
       "      <td>60.0</td>\n",
       "      <td>31.0</td>\n",
       "      <td>70.0</td>\n",
       "    </tr>\n",
       "    <tr>\n",
       "      <th>호영</th>\n",
       "      <td>120</td>\n",
       "      <td>50.0</td>\n",
       "      <td>NaN</td>\n",
       "      <td>88.0</td>\n",
       "    </tr>\n",
       "  </tbody>\n",
       "</table>\n",
       "</div>"
      ],
      "text/plain": [
       "     국어    영어    수학    과학\n",
       "철수   98   NaN  88.0  64.0\n",
       "영희   88  90.0  62.0  72.0\n",
       "민수   92  70.0   NaN   NaN\n",
       "수현   63  60.0  31.0  70.0\n",
       "호영  120  50.0   NaN  88.0"
      ]
     },
     "execution_count": 34,
     "metadata": {},
     "output_type": "execute_result"
    }
   ],
   "source": [
    "성적표.tail()"
   ]
  },
  {
   "cell_type": "markdown",
   "metadata": {},
   "source": [
    "## #04. 요약 통계량 얻기\n",
    "\n",
    "### 1) 요약 통계량을 이해하기 위한 통계학 개념\n",
    "\n",
    "#### 평균값\n",
    "\n",
    "모든 값을 더한 후 개수의 나눈 값.\n",
    "\n",
    "`1,2,3,4,5,100`의 평균은  `(1+2+3+4+5+100)/6` 이므로 `19.17`이다.\n",
    "\n",
    "평균은 특정값이 다른 값들의 범위와 차이카 큰 경우 신뢰도가 떨어진다.\n",
    "\n",
    "> 위의 데이터에서 100에 해당하는 값은 다른 값들에 비해 극단적으로 높다.  이러한 형태의 값을 **극단치** 라고 한다.\n",
    "\n",
    "#### 중앙값\n",
    "\n",
    "모든 값을 순서대로 정렬한 후 가운데 위치의 값\n",
    "\n",
    "평균의 신뢰도가 현저히 낮을 경우 데이터의 분포를 확인하기 위해 사용한다.\n",
    "\n",
    "##### 데이터의 수가 홀수개인 경우\n",
    "\n",
    "모든 값을 순서대로 정렬한 후 가운데 위치의 값.\n",
    "\n",
    "`1,2,3,4,5`의 중앙값은 `3`이다.\n",
    "\n",
    "##### 데이터의 수가 짝수개인 경우\n",
    "\n",
    "모든 값을 순서대로 정렬한 후 가운데 두 값의 평균.\n",
    "\n",
    "`1,2,3,4,5,6`의 중앙값은 `(3+4)/2`이므로 `3.5`이다.\n",
    "\n",
    "### 2) 사분위 수\n",
    "\n",
    "데이터의 표본을 4개의 동일 부분으로 나눈 값.\n",
    "\n",
    "사분위수는 데이터의 관측치가 아닌 계산된 값이다.\n",
    "\n",
    "사분위수를 사용하여 데이터의 집합의 범위와 중심위치를 신속하게 평가 할 수 있다.\n",
    "\n",
    "이는 데이터를 이해하는데 중요한 첫 번째 단계이다.\n",
    "\n",
    "| 용어 | 설명 |\n",
    "|------|------|\n",
    "| 1사분위 수 : 데이터의 하위 25%가 이 값보다 작거나 같음. |\n",
    "| 2사분위 수 : 중위수  데이터의 하위 50%가 이 값보다 작거나 같음.(=중앙값) |\n",
    "| 3사분위 수 : 데이터의 하위 75%가 이 값보다 작거나 같음. |\n",
    "\n",
    "반대로 말하면 데이터의 상위 25%는 3사분위 수 보다 크다.\n",
    "\n",
    "예를 들어, 데이터가 `7,9,16,36,39,45,45,46,48,51`인 경우\n",
    "\n",
    "> Q1 = 14.25 <br>\n",
    "> Q2 = 42 <br>\n",
    "> Q3 = 46.50 <br>\n",
    "> 사분위간 범위 = 14.25 ~ 46.50 또는 32.25\n",
    "\n",
    "사분위수를 정학하게 계산하려면 종종  두 관측치 사이를 보간해야 한다.\n",
    "\n",
    "중위수와 사분위간 범위는 극단치의 영향을 받지 않기 때문에 평균 및 표준 편차보다 치우침이 많은 데이터의 중심 위치와 \n",
    "범위의 더 나은 측도가 될 수 있다.\n",
    "\n",
    "\n",
    "### 3) 전체 컬럼에 대한 일괄 확인\n",
    "\n",
    "요약 통계량을 표현하는 데이터프레임이 변환된다\n",
    "\n",
    "- count : 결측치(NaB)을 제외한 유효 데이터의 수\n",
    "- mean : 평균\n",
    "- std : 표준편차\n",
    "- min : 최소값\n",
    "- 25% : 1사분위 수 (하위 25% 위치의 데이터)\n",
    "- 50% : 2사분위 수, 중앙값 (하위 50% 위치의 데이터)\n",
    "- 75% : 3사분위 수 (하위 75% 위치의 데이터)\n",
    "- max : 최대값\n",
    "\n",
    "> 1사분위 ~ 3사분위 수까지를 **4분위수**라고 묶어서 표현한다.\n",
    "\n",
    "### 1) 확인"
   ]
  },
  {
   "cell_type": "code",
   "execution_count": 35,
   "metadata": {},
   "outputs": [
    {
     "data": {
      "text/html": [
       "<div>\n",
       "<style scoped>\n",
       "    .dataframe tbody tr th:only-of-type {\n",
       "        vertical-align: middle;\n",
       "    }\n",
       "\n",
       "    .dataframe tbody tr th {\n",
       "        vertical-align: top;\n",
       "    }\n",
       "\n",
       "    .dataframe thead th {\n",
       "        text-align: right;\n",
       "    }\n",
       "</style>\n",
       "<table border=\"1\" class=\"dataframe\">\n",
       "  <thead>\n",
       "    <tr style=\"text-align: right;\">\n",
       "      <th></th>\n",
       "      <th>국어</th>\n",
       "      <th>영어</th>\n",
       "      <th>수학</th>\n",
       "      <th>과학</th>\n",
       "    </tr>\n",
       "  </thead>\n",
       "  <tbody>\n",
       "    <tr>\n",
       "      <th>count</th>\n",
       "      <td>5.000000</td>\n",
       "      <td>4.000000</td>\n",
       "      <td>3.000000</td>\n",
       "      <td>4.000000</td>\n",
       "    </tr>\n",
       "    <tr>\n",
       "      <th>mean</th>\n",
       "      <td>92.200000</td>\n",
       "      <td>67.500000</td>\n",
       "      <td>60.333333</td>\n",
       "      <td>73.500000</td>\n",
       "    </tr>\n",
       "    <tr>\n",
       "      <th>std</th>\n",
       "      <td>20.474374</td>\n",
       "      <td>17.078251</td>\n",
       "      <td>28.536526</td>\n",
       "      <td>10.246951</td>\n",
       "    </tr>\n",
       "    <tr>\n",
       "      <th>min</th>\n",
       "      <td>63.000000</td>\n",
       "      <td>50.000000</td>\n",
       "      <td>31.000000</td>\n",
       "      <td>64.000000</td>\n",
       "    </tr>\n",
       "    <tr>\n",
       "      <th>25%</th>\n",
       "      <td>88.000000</td>\n",
       "      <td>57.500000</td>\n",
       "      <td>46.500000</td>\n",
       "      <td>68.500000</td>\n",
       "    </tr>\n",
       "    <tr>\n",
       "      <th>50%</th>\n",
       "      <td>92.000000</td>\n",
       "      <td>65.000000</td>\n",
       "      <td>62.000000</td>\n",
       "      <td>71.000000</td>\n",
       "    </tr>\n",
       "    <tr>\n",
       "      <th>75%</th>\n",
       "      <td>98.000000</td>\n",
       "      <td>75.000000</td>\n",
       "      <td>75.000000</td>\n",
       "      <td>76.000000</td>\n",
       "    </tr>\n",
       "    <tr>\n",
       "      <th>max</th>\n",
       "      <td>120.000000</td>\n",
       "      <td>90.000000</td>\n",
       "      <td>88.000000</td>\n",
       "      <td>88.000000</td>\n",
       "    </tr>\n",
       "  </tbody>\n",
       "</table>\n",
       "</div>"
      ],
      "text/plain": [
       "               국어         영어         수학         과학\n",
       "count    5.000000   4.000000   3.000000   4.000000\n",
       "mean    92.200000  67.500000  60.333333  73.500000\n",
       "std     20.474374  17.078251  28.536526  10.246951\n",
       "min     63.000000  50.000000  31.000000  64.000000\n",
       "25%     88.000000  57.500000  46.500000  68.500000\n",
       "50%     92.000000  65.000000  62.000000  71.000000\n",
       "75%     98.000000  75.000000  75.000000  76.000000\n",
       "max    120.000000  90.000000  88.000000  88.000000"
      ]
     },
     "execution_count": 35,
     "metadata": {},
     "output_type": "execute_result"
    }
   ],
   "source": [
    "des = 성적표.describe()\n",
    "des"
   ]
  },
  {
   "cell_type": "markdown",
   "metadata": {},
   "source": [
    "### 2) 특정 컬럼에 대한 확인"
   ]
  },
  {
   "cell_type": "code",
   "execution_count": 36,
   "metadata": {},
   "outputs": [
    {
     "data": {
      "text/plain": [
       "count      5.000000\n",
       "mean      92.200000\n",
       "std       20.474374\n",
       "min       63.000000\n",
       "25%       88.000000\n",
       "50%       92.000000\n",
       "75%       98.000000\n",
       "max      120.000000\n",
       "Name: 국어, dtype: float64"
      ]
     },
     "execution_count": 36,
     "metadata": {},
     "output_type": "execute_result"
    }
   ],
   "source": [
    "성적표['국어'].describe()"
   ]
  },
  {
   "cell_type": "markdown",
   "metadata": {},
   "source": [
    "### 3) 기술통계값들을 개별적으로 얻기 "
   ]
  },
  {
   "cell_type": "code",
   "execution_count": 37,
   "metadata": {},
   "outputs": [
    {
     "data": {
      "text/plain": [
       "국어    5\n",
       "영어    4\n",
       "수학    3\n",
       "과학    4\n",
       "dtype: int64"
      ]
     },
     "execution_count": 37,
     "metadata": {},
     "output_type": "execute_result"
    }
   ],
   "source": [
    "성적표.count()"
   ]
  },
  {
   "cell_type": "code",
   "execution_count": 38,
   "metadata": {},
   "outputs": [
    {
     "data": {
      "text/plain": [
       "국어    92.200000\n",
       "영어    67.500000\n",
       "수학    60.333333\n",
       "과학    73.500000\n",
       "dtype: float64"
      ]
     },
     "execution_count": 38,
     "metadata": {},
     "output_type": "execute_result"
    }
   ],
   "source": [
    "성적표.mean()"
   ]
  },
  {
   "cell_type": "code",
   "execution_count": 39,
   "metadata": {},
   "outputs": [
    {
     "data": {
      "text/plain": [
       "국어    120.0\n",
       "영어     90.0\n",
       "수학     88.0\n",
       "과학     88.0\n",
       "dtype: float64"
      ]
     },
     "execution_count": 39,
     "metadata": {},
     "output_type": "execute_result"
    }
   ],
   "source": [
    "성적표.max()"
   ]
  },
  {
   "cell_type": "code",
   "execution_count": 40,
   "metadata": {},
   "outputs": [
    {
     "data": {
      "text/plain": [
       "국어    63.0\n",
       "영어    50.0\n",
       "수학    31.0\n",
       "과학    64.0\n",
       "dtype: float64"
      ]
     },
     "execution_count": 40,
     "metadata": {},
     "output_type": "execute_result"
    }
   ],
   "source": [
    "성적표.min()"
   ]
  },
  {
   "cell_type": "code",
   "execution_count": 41,
   "metadata": {},
   "outputs": [
    {
     "data": {
      "text/plain": [
       "국어    20.474374\n",
       "영어    17.078251\n",
       "수학    28.536526\n",
       "과학    10.246951\n",
       "dtype: float64"
      ]
     },
     "execution_count": 41,
     "metadata": {},
     "output_type": "execute_result"
    }
   ],
   "source": [
    "성적표.std()"
   ]
  },
  {
   "cell_type": "code",
   "execution_count": 42,
   "metadata": {},
   "outputs": [
    {
     "data": {
      "text/plain": [
       "국어    88.0\n",
       "영어    57.5\n",
       "수학    46.5\n",
       "과학    68.5\n",
       "Name: 0.25, dtype: float64"
      ]
     },
     "execution_count": 42,
     "metadata": {},
     "output_type": "execute_result"
    }
   ],
   "source": [
    "# 1사분위 수 (25% 위치의 값)\n",
    "성적표.quantile(q=0.25)"
   ]
  },
  {
   "cell_type": "code",
   "execution_count": 43,
   "metadata": {},
   "outputs": [
    {
     "data": {
      "text/plain": [
       "국어    92.0\n",
       "영어    65.0\n",
       "수학    62.0\n",
       "과학    71.0\n",
       "Name: 0.5, dtype: float64"
      ]
     },
     "execution_count": 43,
     "metadata": {},
     "output_type": "execute_result"
    }
   ],
   "source": [
    "# 2사분위 수, 중앙값  (50% 위치의 값)\n",
    "성적표.quantile(q=0.5)"
   ]
  },
  {
   "cell_type": "code",
   "execution_count": 44,
   "metadata": {},
   "outputs": [
    {
     "data": {
      "text/plain": [
       "국어    92.0\n",
       "영어    65.0\n",
       "수학    62.0\n",
       "과학    71.0\n",
       "dtype: float64"
      ]
     },
     "execution_count": 44,
     "metadata": {},
     "output_type": "execute_result"
    }
   ],
   "source": [
    "# 중앙값을 얻는 또 다른 방법\n",
    "성적표.median()"
   ]
  },
  {
   "cell_type": "code",
   "execution_count": 45,
   "metadata": {},
   "outputs": [
    {
     "data": {
      "text/plain": [
       "국어    98.0\n",
       "영어    75.0\n",
       "수학    75.0\n",
       "과학    76.0\n",
       "Name: 0.75, dtype: float64"
      ]
     },
     "execution_count": 45,
     "metadata": {},
     "output_type": "execute_result"
    }
   ],
   "source": [
    "# 3사분위 수 (75% 위치의 값)\n",
    "성적표.quantile(q=0.75)"
   ]
  },
  {
   "cell_type": "code",
   "execution_count": 46,
   "metadata": {},
   "outputs": [
    {
     "data": {
      "text/plain": [
       "국어    111.2\n",
       "영어     84.0\n",
       "수학     82.8\n",
       "과학     83.2\n",
       "Name: 0.9, dtype: float64"
      ]
     },
     "execution_count": 46,
     "metadata": {},
     "output_type": "execute_result"
    }
   ],
   "source": [
    "# 응용 - 상위 10%에 들기 위해 취득해야 하는 과목별 점수\n",
    "성적표.quantile(q=0.9)"
   ]
  },
  {
   "cell_type": "markdown",
   "metadata": {},
   "source": [
    "#### 4) 상자그림\n",
    "\n",
    "데이터의 요약 정보를 시각화 해 놓은 그래프로 데이터의 범위, 사분위 수등을 확인 할 수 있는 시각화 자료이다.\n",
    "\n",
    "> 내부적으로 matplotlib패키지의 pyplot 객체를 사용한다.\n",
    "\n",
    "![boxplot](boxplot.png)\n",
    "\n",
    "#### pyplot 객체 기본 환경 설정"
   ]
  },
  {
   "cell_type": "code",
   "execution_count": 47,
   "metadata": {},
   "outputs": [],
   "source": [
    "# 한글폰트, 그래픽 크기 설정\n",
    "pyplot.rcParams[\"font.family\"] = 'Malgun Gothic' # 사용할 폰트이름 지정(맑은 고딕)\n",
    "pyplot.rcParams[\"font.size\"] = 14                # 글자 크기\n",
    "pyplot.rcParams[\"figure.figsize\"] = (12,6)       # 그래프의 가로, 세로 크기 (inch단위)"
   ]
  },
  {
   "cell_type": "markdown",
   "metadata": {},
   "source": [
    "#### 전체 데이터프레임의 상자그림"
   ]
  },
  {
   "cell_type": "code",
   "execution_count": 48,
   "metadata": {},
   "outputs": [
    {
     "data": {
      "image/png": "[encoded data removed]",
      "text/plain": [
       "<Figure size 864x432 with 1 Axes>"
      ]
     },
     "metadata": {
      "needs_background": "light"
     },
     "output_type": "display_data"
    }
   ],
   "source": [
    "# 상자그림 생성\n",
    "성적표.boxplot()\n",
    "\n",
    "# 생성된 그래프 화면 표시\n",
    "pyplot.show()"
   ]
  },
  {
   "cell_type": "markdown",
   "metadata": {},
   "source": [
    "#### 특정 컬럼에 대한 상자그림 표시하기 \n",
    "\n",
    "두 개 이상의 컬럼을 한 번에 표시하는 경우 `()`안의 리스트에 컬럼이름을 나열한다."
   ]
  },
  {
   "cell_type": "code",
   "execution_count": 49,
   "metadata": {},
   "outputs": [
    {
     "data": {
      "image/png": "[encoded data removed]",
      "text/plain": [
       "<Figure size 864x432 with 1 Axes>"
      ]
     },
     "metadata": {
      "needs_background": "light"
     },
     "output_type": "display_data"
    }
   ],
   "source": [
    "# 상자그림 생성\n",
    "성적표.boxplot(['영어'])\n",
    "\n",
    "# 생성된 그래프 화면 표시\n",
    "pyplot.show()"
   ]
  },
  {
   "cell_type": "code",
   "execution_count": 57,
   "metadata": {},
   "outputs": [
    {
     "data": {
      "image/png": "[encoded data removed]",
      "text/plain": [
       "<Figure size 864x432 with 1 Axes>"
      ]
     },
     "metadata": {
      "needs_background": "light"
     },
     "output_type": "display_data"
    }
   ],
   "source": [
    "# 상자그림 생성\n",
    "성적표.boxplot(['영어','수학'])\n",
    "\n",
    "# 생성된 그래프 화면 표시\n",
    "pyplot.show()"
   ]
  },
  {
   "cell_type": "markdown",
   "metadata": {},
   "source": [
    "## #05.  히스토그램과 도수분포표\n",
    "\n",
    "### 1) 히스토그램\n",
    "\n",
    "자료가 가질 수 있는 범위를 몇 개의 **구간**으로 나누고 각 구간에 해당 한느 값의 숫자 혹은 상대적 빈도를 표현하는 그래프\n",
    "\n",
    "#### a) 히스토그램 작성 과정\n",
    "1. 자료의 갯수와 구간(최대값, 최소값)을 확인한다.\n",
    "1. 자료를 몇 개의 구간으로 나눌지 분석가의 주관에 따라 결정한다.\n",
    "    - 구간은 자료의 개수나 분포에 따라 달라져야 한다.\n",
    "    - 각 구간별로 5개 이상의 값이 들어가도록 하는 것이 좋다.\n",
    "    - 너무 많은 구간을 나누지 않도록 해야 한다. (일반적으로 5~15 사이의 값)\n",
    "1. Pyplot의 hist() 함수를 사용하여 히스토그램을 생성한다.\n",
    "    ```python\n",
    "     n, bins, patches = pyplot.hist(값, 구간의_수)\n",
    "    ```\n",
    "    - n은 각 구간에 포함된 값의 갯수 혹은 빈도를 표현하는 리스트\n",
    "    - bins는 각 구간별 경계값 리스트\n",
    "    - patches는 각 구간을 그리는 matplot 객체 리스트 (사용안함)"
   ]
  },
  {
   "cell_type": "markdown",
   "metadata": {},
   "source": [
    "### 2) 샘플 데이터 가져오기 "
   ]
  },
  {
   "cell_type": "code",
   "execution_count": 58,
   "metadata": {},
   "outputs": [
    {
     "data": {
      "text/html": [
       "<div>\n",
       "<style scoped>\n",
       "    .dataframe tbody tr th:only-of-type {\n",
       "        vertical-align: middle;\n",
       "    }\n",
       "\n",
       "    .dataframe tbody tr th {\n",
       "        vertical-align: top;\n",
       "    }\n",
       "\n",
       "    .dataframe thead th {\n",
       "        text-align: right;\n",
       "    }\n",
       "</style>\n",
       "<table border=\"1\" class=\"dataframe\">\n",
       "  <thead>\n",
       "    <tr style=\"text-align: right;\">\n",
       "      <th></th>\n",
       "      <th>이름</th>\n",
       "      <th>국어</th>\n",
       "      <th>영어</th>\n",
       "      <th>수학</th>\n",
       "      <th>과학</th>\n",
       "    </tr>\n",
       "  </thead>\n",
       "  <tbody>\n",
       "    <tr>\n",
       "      <th>0</th>\n",
       "      <td>학생1</td>\n",
       "      <td>98.0</td>\n",
       "      <td>NaN</td>\n",
       "      <td>88.0</td>\n",
       "      <td>64.0</td>\n",
       "    </tr>\n",
       "    <tr>\n",
       "      <th>1</th>\n",
       "      <td>학생2</td>\n",
       "      <td>88.0</td>\n",
       "      <td>90.0</td>\n",
       "      <td>62.0</td>\n",
       "      <td>72.0</td>\n",
       "    </tr>\n",
       "    <tr>\n",
       "      <th>2</th>\n",
       "      <td>학생3</td>\n",
       "      <td>92.0</td>\n",
       "      <td>70.0</td>\n",
       "      <td>NaN</td>\n",
       "      <td>NaN</td>\n",
       "    </tr>\n",
       "    <tr>\n",
       "      <th>3</th>\n",
       "      <td>학생4</td>\n",
       "      <td>63.0</td>\n",
       "      <td>60.0</td>\n",
       "      <td>31.0</td>\n",
       "      <td>70.0</td>\n",
       "    </tr>\n",
       "    <tr>\n",
       "      <th>4</th>\n",
       "      <td>학생5</td>\n",
       "      <td>100.0</td>\n",
       "      <td>50.0</td>\n",
       "      <td>NaN</td>\n",
       "      <td>88.0</td>\n",
       "    </tr>\n",
       "    <tr>\n",
       "      <th>...</th>\n",
       "      <td>...</td>\n",
       "      <td>...</td>\n",
       "      <td>...</td>\n",
       "      <td>...</td>\n",
       "      <td>...</td>\n",
       "    </tr>\n",
       "    <tr>\n",
       "      <th>9995</th>\n",
       "      <td>학생9996</td>\n",
       "      <td>63.0</td>\n",
       "      <td>60.0</td>\n",
       "      <td>55.0</td>\n",
       "      <td>70.0</td>\n",
       "    </tr>\n",
       "    <tr>\n",
       "      <th>9996</th>\n",
       "      <td>학생9997</td>\n",
       "      <td>21.0</td>\n",
       "      <td>50.0</td>\n",
       "      <td>55.0</td>\n",
       "      <td>88.0</td>\n",
       "    </tr>\n",
       "    <tr>\n",
       "      <th>9997</th>\n",
       "      <td>학생9998</td>\n",
       "      <td>98.0</td>\n",
       "      <td>90.0</td>\n",
       "      <td>88.0</td>\n",
       "      <td>64.0</td>\n",
       "    </tr>\n",
       "    <tr>\n",
       "      <th>9998</th>\n",
       "      <td>학생9999</td>\n",
       "      <td>88.0</td>\n",
       "      <td>90.0</td>\n",
       "      <td>62.0</td>\n",
       "      <td>72.0</td>\n",
       "    </tr>\n",
       "    <tr>\n",
       "      <th>9999</th>\n",
       "      <td>학생10000</td>\n",
       "      <td>92.0</td>\n",
       "      <td>70.0</td>\n",
       "      <td>75.0</td>\n",
       "      <td>85.0</td>\n",
       "    </tr>\n",
       "  </tbody>\n",
       "</table>\n",
       "<p>10000 rows × 5 columns</p>\n",
       "</div>"
      ],
      "text/plain": [
       "           이름     국어    영어    수학    과학\n",
       "0         학생1   98.0   NaN  88.0  64.0\n",
       "1         학생2   88.0  90.0  62.0  72.0\n",
       "2         학생3   92.0  70.0   NaN   NaN\n",
       "3         학생4   63.0  60.0  31.0  70.0\n",
       "4         학생5  100.0  50.0   NaN  88.0\n",
       "...       ...    ...   ...   ...   ...\n",
       "9995   학생9996   63.0  60.0  55.0  70.0\n",
       "9996   학생9997   21.0  50.0  55.0  88.0\n",
       "9997   학생9998   98.0  90.0  88.0  64.0\n",
       "9998   학생9999   88.0  90.0  62.0  72.0\n",
       "9999  학생10000   92.0  70.0  75.0  85.0\n",
       "\n",
       "[10000 rows x 5 columns]"
      ]
     },
     "execution_count": 58,
     "metadata": {},
     "output_type": "execute_result"
    }
   ],
   "source": [
    "# 성적표 데이터\n",
    "성적표10000건 = read_csv(\"http://itpaper.co.kr/demo/py/grade10000.csv\", encoding=\"euc-kr\")\n",
    "성적표10000건"
   ]
  },
  {
   "cell_type": "markdown",
   "metadata": {},
   "source": [
    "### 3) 성적표 데이터 전처리 \n",
    "\n",
    "#### 인덱스 이름 지정"
   ]
  },
  {
   "cell_type": "code",
   "execution_count": 60,
   "metadata": {},
   "outputs": [
    {
     "data": {
      "text/html": [
       "<div>\n",
       "<style scoped>\n",
       "    .dataframe tbody tr th:only-of-type {\n",
       "        vertical-align: middle;\n",
       "    }\n",
       "\n",
       "    .dataframe tbody tr th {\n",
       "        vertical-align: top;\n",
       "    }\n",
       "\n",
       "    .dataframe thead th {\n",
       "        text-align: right;\n",
       "    }\n",
       "</style>\n",
       "<table border=\"1\" class=\"dataframe\">\n",
       "  <thead>\n",
       "    <tr style=\"text-align: right;\">\n",
       "      <th></th>\n",
       "      <th>국어</th>\n",
       "      <th>영어</th>\n",
       "      <th>수학</th>\n",
       "      <th>과학</th>\n",
       "    </tr>\n",
       "  </thead>\n",
       "  <tbody>\n",
       "    <tr>\n",
       "      <th>학생1</th>\n",
       "      <td>98.0</td>\n",
       "      <td>NaN</td>\n",
       "      <td>88.0</td>\n",
       "      <td>64.0</td>\n",
       "    </tr>\n",
       "    <tr>\n",
       "      <th>학생2</th>\n",
       "      <td>88.0</td>\n",
       "      <td>90.0</td>\n",
       "      <td>62.0</td>\n",
       "      <td>72.0</td>\n",
       "    </tr>\n",
       "    <tr>\n",
       "      <th>학생3</th>\n",
       "      <td>92.0</td>\n",
       "      <td>70.0</td>\n",
       "      <td>NaN</td>\n",
       "      <td>NaN</td>\n",
       "    </tr>\n",
       "    <tr>\n",
       "      <th>학생4</th>\n",
       "      <td>63.0</td>\n",
       "      <td>60.0</td>\n",
       "      <td>31.0</td>\n",
       "      <td>70.0</td>\n",
       "    </tr>\n",
       "    <tr>\n",
       "      <th>학생5</th>\n",
       "      <td>100.0</td>\n",
       "      <td>50.0</td>\n",
       "      <td>NaN</td>\n",
       "      <td>88.0</td>\n",
       "    </tr>\n",
       "    <tr>\n",
       "      <th>...</th>\n",
       "      <td>...</td>\n",
       "      <td>...</td>\n",
       "      <td>...</td>\n",
       "      <td>...</td>\n",
       "    </tr>\n",
       "    <tr>\n",
       "      <th>학생9996</th>\n",
       "      <td>63.0</td>\n",
       "      <td>60.0</td>\n",
       "      <td>55.0</td>\n",
       "      <td>70.0</td>\n",
       "    </tr>\n",
       "    <tr>\n",
       "      <th>학생9997</th>\n",
       "      <td>21.0</td>\n",
       "      <td>50.0</td>\n",
       "      <td>55.0</td>\n",
       "      <td>88.0</td>\n",
       "    </tr>\n",
       "    <tr>\n",
       "      <th>학생9998</th>\n",
       "      <td>98.0</td>\n",
       "      <td>90.0</td>\n",
       "      <td>88.0</td>\n",
       "      <td>64.0</td>\n",
       "    </tr>\n",
       "    <tr>\n",
       "      <th>학생9999</th>\n",
       "      <td>88.0</td>\n",
       "      <td>90.0</td>\n",
       "      <td>62.0</td>\n",
       "      <td>72.0</td>\n",
       "    </tr>\n",
       "    <tr>\n",
       "      <th>학생10000</th>\n",
       "      <td>92.0</td>\n",
       "      <td>70.0</td>\n",
       "      <td>75.0</td>\n",
       "      <td>85.0</td>\n",
       "    </tr>\n",
       "  </tbody>\n",
       "</table>\n",
       "<p>10000 rows × 4 columns</p>\n",
       "</div>"
      ],
      "text/plain": [
       "            국어    영어    수학    과학\n",
       "학생1       98.0   NaN  88.0  64.0\n",
       "학생2       88.0  90.0  62.0  72.0\n",
       "학생3       92.0  70.0   NaN   NaN\n",
       "학생4       63.0  60.0  31.0  70.0\n",
       "학생5      100.0  50.0   NaN  88.0\n",
       "...        ...   ...   ...   ...\n",
       "학생9996    63.0  60.0  55.0  70.0\n",
       "학생9997    21.0  50.0  55.0  88.0\n",
       "학생9998    98.0  90.0  88.0  64.0\n",
       "학생9999    88.0  90.0  62.0  72.0\n",
       "학생10000   92.0  70.0  75.0  85.0\n",
       "\n",
       "[10000 rows x 4 columns]"
      ]
     },
     "execution_count": 60,
     "metadata": {},
     "output_type": "execute_result"
    }
   ],
   "source": [
    "현재인덱스 = list(성적표10000건.index)\n",
    "이름 = list(성적표10000건['이름'])\n",
    "\n",
    "indexDict = {}\n",
    "for i, v in enumerate(이름):\n",
    "    before = 현재인덱스[i];\n",
    "    indexDict[before] = v\n",
    "    \n",
    "성적표df = 성적표10000건.rename(index=indexDict)    \n",
    "성적표df.drop(['이름'], axis=1, inplace=True)\n",
    "성적표df"
   ]
  },
  {
   "cell_type": "markdown",
   "metadata": {},
   "source": [
    "### 4) 히스토그램 생성하기 \n",
    "\n",
    "#### 자료의 갯수를 센다."
   ]
  },
  {
   "cell_type": "code",
   "execution_count": 61,
   "metadata": {},
   "outputs": [
    {
     "name": "stdout",
     "output_type": "stream",
     "text": [
      "자료의 수 =  10000\n"
     ]
    }
   ],
   "source": [
    "count = len(성적표df['영어'])\n",
    "print(\"자료의 수 = \", count)"
   ]
  },
  {
   "cell_type": "markdown",
   "metadata": {},
   "source": [
    "#### 자료내에서 최대값/최소값을 찾는다."
   ]
  },
  {
   "cell_type": "code",
   "execution_count": 62,
   "metadata": {},
   "outputs": [
    {
     "name": "stdout",
     "output_type": "stream",
     "text": [
      "최대값 =  98.0\n",
      "최소값 =  1.0\n"
     ]
    }
   ],
   "source": [
    "max_value = 성적표df['영어'].max()\n",
    "min_value = 성적표df['영어'].min()\n",
    "print(\"최대값 = \", max_value)\n",
    "print(\"최소값 = \", min_value)"
   ]
  },
  {
   "cell_type": "markdown",
   "metadata": {},
   "source": [
    "#### 몇 개의 구간으로 나눌지 분석가의 주관에 따라 결정한다."
   ]
  },
  {
   "cell_type": "code",
   "execution_count": 63,
   "metadata": {},
   "outputs": [],
   "source": [
    "step = 5"
   ]
  },
  {
   "cell_type": "markdown",
   "metadata": {},
   "source": [
    "#### 히스토그램 그래프에 대한 한글 폰트, 글자크기, 그래픽 크기 설정"
   ]
  },
  {
   "cell_type": "code",
   "execution_count": 64,
   "metadata": {},
   "outputs": [],
   "source": [
    "pyplot.rcParams[\"font.family\"] = 'Malgun Gothic' # 사용할 폰트이름 지정(맑은 고딕)\n",
    "pyplot.rcParams[\"font.size\"] = 20                # 글자 크기\n",
    "pyplot.rcParams[\"figure.figsize\"] = (25,15)       # 그래프의 가로, 세로 크기 (inch단위)"
   ]
  },
  {
   "cell_type": "markdown",
   "metadata": {},
   "source": [
    "#### 데이터와 구간을 사용하여 히스토그램 작성하기 \n",
    "\n",
    "> 결측치(NaN)이 포함된 컬럼에 대한 처리 요청시 경고 메세지 표시 될 수 있다. (무시해도 좋다)"
   ]
  },
  {
   "cell_type": "code",
   "execution_count": 65,
   "metadata": {},
   "outputs": [
    {
     "name": "stderr",
     "output_type": "stream",
     "text": [
      "c:\\users\\ezen\\appdata\\local\\programs\\python\\python37\\lib\\site-packages\\numpy\\lib\\histograms.py:829: RuntimeWarning: invalid value encountered in greater_equal\n",
      "  keep = (tmp_a >= first_edge)\n",
      "c:\\users\\ezen\\appdata\\local\\programs\\python\\python37\\lib\\site-packages\\numpy\\lib\\histograms.py:830: RuntimeWarning: invalid value encountered in less_equal\n",
      "  keep &= (tmp_a <= last_edge)\n"
     ]
    },
    {
     "data": {
      "image/png": "[encoded data removed]",
      "text/plain": [
       "<Figure size 1800x1080 with 1 Axes>"
      ]
     },
     "metadata": {
      "needs_background": "light"
     },
     "output_type": "display_data"
    }
   ],
   "source": [
    "n, bins, patches = pyplot.hist(성적표df['영어'], bins=step)"
   ]
  },
  {
   "cell_type": "markdown",
   "metadata": {},
   "source": [
    "#### 리턴값 확인\n",
    "\n",
    "##### 데이터의 구간 정보를 담고 있는 리스트\n",
    "\n",
    "- 1 이상 20.4 미만\n",
    "- 20.4 이상 39.8 미만\n",
    "- 39.8 이상 59.2 미만\n",
    "- 59.2 이상 78.6 미만\n",
    "- 78.6 이상 98 이하(마지막 구간은 포함됨)"
   ]
  },
  {
   "cell_type": "code",
   "execution_count": 66,
   "metadata": {},
   "outputs": [
    {
     "data": {
      "text/plain": [
       "array([ 1. , 20.4, 39.8, 59.2, 78.6, 98. ])"
      ]
     },
     "execution_count": 66,
     "metadata": {},
     "output_type": "execute_result"
    }
   ],
   "source": [
    "bins"
   ]
  },
  {
   "cell_type": "markdown",
   "metadata": {},
   "source": [
    "##### 각 구간별 빈도를 담고 있는 리스트\n",
    "\n",
    "`bins`가 의미하는 구간별로 데이터의 수"
   ]
  },
  {
   "cell_type": "code",
   "execution_count": 67,
   "metadata": {},
   "outputs": [
    {
     "data": {
      "text/plain": [
       "array([ 727., 1314., 3158., 2400., 2171.])"
      ]
     },
     "execution_count": 67,
     "metadata": {},
     "output_type": "execute_result"
    }
   ],
   "source": [
    "n"
   ]
  },
  {
   "cell_type": "markdown",
   "metadata": {},
   "source": [
    "##### 그래프를 표현하는데 사용되는 객체들에 대한 참조\n",
    "\n",
    "사용안함"
   ]
  },
  {
   "cell_type": "code",
   "execution_count": 68,
   "metadata": {},
   "outputs": [
    {
     "data": {
      "text/plain": [
       "<a list of 5 Patch objects>"
      ]
     },
     "execution_count": 68,
     "metadata": {},
     "output_type": "execute_result"
    }
   ],
   "source": [
    "patches"
   ]
  },
  {
   "cell_type": "markdown",
   "metadata": {},
   "source": [
    "### 5) 히스토그램 보정하기\n",
    "\n",
    "#### 구간정보의 소수점 반올림 처리 \n",
    "\n",
    "jupyter에서는 bins 값이 소수점 첫자리까지만 표시되지만 python 콘솔에서 직접 확인 하면 소수점 자리수가 매우 긴 값으로 구성되어 있음을 알 수 있다."
   ]
  },
  {
   "cell_type": "code",
   "execution_count": 69,
   "metadata": {},
   "outputs": [
    {
     "data": {
      "text/plain": [
       "array([ 1. , 20.4, 39.8, 59.2, 78.6, 98. ])"
      ]
     },
     "execution_count": 69,
     "metadata": {},
     "output_type": "execute_result"
    }
   ],
   "source": [
    "# bins 리스트의 원소들을 소수점 둘째 자리에서 반올림\n",
    "for i, v in enumerate(bins):\n",
    "    # round(값, 소수점자리) -> 지정된 자리수 까지 남기라는 의미\n",
    "    bins[i] = round(v, 1)\n",
    "    \n",
    "bins    "
   ]
  },
  {
   "cell_type": "markdown",
   "metadata": {},
   "source": [
    "#### pylot을 활용한 히스토그램 구성"
   ]
  },
  {
   "cell_type": "code",
   "execution_count": 75,
   "metadata": {},
   "outputs": [
    {
     "name": "stdout",
     "output_type": "stream",
     "text": [
      "727명\n",
      "1314명\n",
      "3158명\n",
      "2400명\n",
      "2171명\n"
     ]
    },
    {
     "data": {
      "image/png": "[encoded data removed]",
      "text/plain": [
       "<Figure size 1800x1080 with 1 Axes>"
      ]
     },
     "metadata": {
      "needs_background": "light"
     },
     "output_type": "display_data"
    }
   ],
   "source": [
    "pyplot.rcParams[\"font.family\"] = 'Malgun Gothic' # 사용할 폰트이름 지정(맑은 고딕)\n",
    "pyplot.rcParams[\"font.size\"] = 20                # 글자 크기\n",
    "pyplot.rcParams[\"figure.figsize\"] = (25,15)       # 그래프의 가로, 세로 크기 (inch단위)\n",
    "\n",
    "pyplot.hist(성적표df['영어'], bins=step)\n",
    "pyplot.grid()\n",
    "pyplot.xlabel('영어 점수 구간')\n",
    "pyplot.ylabel('영어점수 구간별 학생 수')\n",
    "pyplot.title('영어점수 히스토그램')\n",
    "\n",
    "# x축의 좌표에 다른 내용을 출력\n",
    "pyplot.xticks(bins,bins)\n",
    "\n",
    "# 출력할 데이터 수 만큼 반복\n",
    "for i, v in enumerate(n):\n",
    "    txt = \"%d명\" % v\n",
    "    print(txt)\n",
    "    \n",
    "    # 텍스트 출력 -> x좌표, y좌표, 내용, 글자크기, 색상, 텍스트가로정렬, 세로정렬\n",
    "    pyplot.text(bins[i], v, txt, fontsize=18, color='#ff0000',\n",
    "               horizontalalignment='left', verticalalignment='bottom')\n",
    "\n",
    "pyplot.show()    \n"
   ]
  },
  {
   "cell_type": "markdown",
   "metadata": {},
   "source": [
    "### 6) 도수분포표 만들기\n",
    "\n",
    "히스토리그램을 생성하는 과정에서 리턴되는 값들이 도수분포표를 구성하는 정보에 해당한다.\n",
    "\n",
    "Python에서 도수분포표를 한번에 생성하는 기능은 제공하지 않기 때문에 필요하다면 표를 생성하기 위한 로직을 직접 구현 해야 한다."
   ]
  },
  {
   "cell_type": "code",
   "execution_count": 76,
   "metadata": {},
   "outputs": [
    {
     "data": {
      "text/plain": [
       "['1.0 ~ 20.4', '20.4 ~ 39.8', '39.8 ~ 59.2', '59.2 ~ 78.6', '78.6 ~ 98.0']"
      ]
     },
     "execution_count": 76,
     "metadata": {},
     "output_type": "execute_result"
    }
   ],
   "source": [
    "idx = []\n",
    "for i in range(0, len(bins)-1):\n",
    "    k = \"%0.1f ~ %0.1f\" %(bins[i], bins[i+1])\n",
    "    idx.append(k)\n",
    "idx    "
   ]
  },
  {
   "cell_type": "code",
   "execution_count": 77,
   "metadata": {},
   "outputs": [
    {
     "data": {
      "text/html": [
       "<div>\n",
       "<style scoped>\n",
       "    .dataframe tbody tr th:only-of-type {\n",
       "        vertical-align: middle;\n",
       "    }\n",
       "\n",
       "    .dataframe tbody tr th {\n",
       "        vertical-align: top;\n",
       "    }\n",
       "\n",
       "    .dataframe thead th {\n",
       "        text-align: right;\n",
       "    }\n",
       "</style>\n",
       "<table border=\"1\" class=\"dataframe\">\n",
       "  <thead>\n",
       "    <tr style=\"text-align: right;\">\n",
       "      <th></th>\n",
       "      <th>빈도</th>\n",
       "    </tr>\n",
       "  </thead>\n",
       "  <tbody>\n",
       "    <tr>\n",
       "      <th>1.0 ~ 20.4</th>\n",
       "      <td>727.0</td>\n",
       "    </tr>\n",
       "    <tr>\n",
       "      <th>20.4 ~ 39.8</th>\n",
       "      <td>1314.0</td>\n",
       "    </tr>\n",
       "    <tr>\n",
       "      <th>39.8 ~ 59.2</th>\n",
       "      <td>3158.0</td>\n",
       "    </tr>\n",
       "    <tr>\n",
       "      <th>59.2 ~ 78.6</th>\n",
       "      <td>2400.0</td>\n",
       "    </tr>\n",
       "    <tr>\n",
       "      <th>78.6 ~ 98.0</th>\n",
       "      <td>2171.0</td>\n",
       "    </tr>\n",
       "  </tbody>\n",
       "</table>\n",
       "</div>"
      ],
      "text/plain": [
       "                 빈도\n",
       "1.0 ~ 20.4    727.0\n",
       "20.4 ~ 39.8  1314.0\n",
       "39.8 ~ 59.2  3158.0\n",
       "59.2 ~ 78.6  2400.0\n",
       "78.6 ~ 98.0  2171.0"
      ]
     },
     "execution_count": 77,
     "metadata": {},
     "output_type": "execute_result"
    }
   ],
   "source": [
    "df = DataFrame(n, index=idx, columns=['빈도'])\n",
    "df"
   ]
  }
 ],
 "metadata": {
  "kernelspec": {
   "display_name": "Python 3",
   "language": "python",
   "name": "python3"
  },
  "language_info": {
   "codemirror_mode": {
    "name": "ipython",
    "version": 3
   },
   "file_extension": ".py",
   "mimetype": "text/x-python",
   "name": "python",
   "nbconvert_exporter": "python",
   "pygments_lexer": "ipython3",
   "version": "3.7.4"
  }
 },
 "nbformat": 4,
 "nbformat_minor": 4
}
