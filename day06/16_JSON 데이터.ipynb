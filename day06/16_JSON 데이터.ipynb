{
 "cells": [
  {
   "cell_type": "markdown",
   "metadata": {},
   "source": [
    "# 16_JSON 데이터\n",
    "\n",
    "key와 value의 쌍으로 이루어진 데이터 표현 형식으로 **Python의 딕셔너리와 동일한 구조**를 갖는다.\n",
    "\n",
    "특정 프로그래밍 언어에 종속되지 않고 사용하기 때문에 최근에는 서로 다른 플랫폼간의 데이터 교환 형식(통신)으로 사용되고 있는 사실상의 산업 표준이다.\n",
    "\n",
    "## #01. 필요한 패키지 가져오기"
   ]
  },
  {
   "cell_type": "code",
   "execution_count": 2,
   "metadata": {},
   "outputs": [],
   "source": [
    "import requests   # 통신기능 제공\n",
    "import json       # 파이썬 내장 모듈\n",
    "from pandas import DataFrame\n",
    "from matplotlib import pyplot"
   ]
  },
  {
   "cell_type": "markdown",
   "metadata": {},
   "source": [
    "## #02. 간단한 JSON 데이터 가져오기\n",
    "\n",
    "requests 모듈이 지정된 URL의 내용을 모두 텍스트로만 가져오기 때문에 가져온 데이터의 형식에 따라 변환 처리가 필요하다.\n",
    "\n",
    "### 1) URL 지정"
   ]
  },
  {
   "cell_type": "code",
   "execution_count": 4,
   "metadata": {},
   "outputs": [],
   "source": [
    "simple_json_url =\"http://www.itpaper.co.kr/demo/py/simple.json\""
   ]
  },
  {
   "cell_type": "markdown",
   "metadata": {},
   "source": [
    "### 2) JSON 데이터 가져오기 "
   ]
  },
  {
   "cell_type": "code",
   "execution_count": 5,
   "metadata": {},
   "outputs": [
    {
     "name": "stdout",
     "output_type": "stream",
     "text": [
      "<class 'str'>\n"
     ]
    },
    {
     "data": {
      "text/plain": [
       "'{\\n    \"name\": \"갤럭시 S6\",\\n    \"type\": \"삼성\",\\n    \"img\": \"http://itpaper.co.kr/demo/app/img/GalaxyS6.png\"\\n}'"
      ]
     },
     "execution_count": 5,
     "metadata": {},
     "output_type": "execute_result"
    }
   ],
   "source": [
    "# 데이터 가져오기 \n",
    "r = requests.get(simple_json_url)\n",
    "\n",
    "# 접속에 실패한 경우\n",
    "if r.status_code != 200 :\n",
    "    #에러 코드와 에러 메세지 출력\n",
    "    printf(\"[%d Error] %s\" % (r.status_code, r.reason))\n",
    "    # 프로그램 강제 종료 (Jupyter가 재시작됨)\n",
    "    quit() \n",
    "\n",
    "# 인코딩 형식 지정 (대상 파일이 저장된 방식을 명시해야 함)    \n",
    "r.encoding = \"utf-8\"\n",
    "\n",
    "# 텍스트 출력 \n",
    "print(type(r.text))\n",
    "r.text"
   ]
  },
  {
   "cell_type": "markdown",
   "metadata": {},
   "source": [
    "### 3) JSON 형식의 문자열을 딕셔너리로 변환\n",
    "\n",
    "파이썬 내장 패키지인 **json** 패키지의  `loads()`  함수를 사용하여 JSON 형식의 문자열을 딕션너리 구조로 변환한다."
   ]
  },
  {
   "cell_type": "code",
   "execution_count": 7,
   "metadata": {},
   "outputs": [
    {
     "name": "stdout",
     "output_type": "stream",
     "text": [
      "<class 'dict'>\n"
     ]
    },
    {
     "data": {
      "text/plain": [
       "{'name': '갤럭시 S6',\n",
       " 'type': '삼성',\n",
       " 'img': 'http://itpaper.co.kr/demo/app/img/GalaxyS6.png'}"
      ]
     },
     "execution_count": 7,
     "metadata": {},
     "output_type": "execute_result"
    }
   ],
   "source": [
    "result = json.loads(r.text)\n",
    "print(type(result))\n",
    "result"
   ]
  },
  {
   "cell_type": "markdown",
   "metadata": {},
   "source": [
    "### 4) 딕셔너리를 DataFrame으로 변환\n",
    "\n",
    "DataFrame을 생성이 가능한 파라미터 형식\n",
    "- 2차 리스트\n",
    "- 모든 원소가 같은 크기의 리스트인 딕셔너리 \n",
    "    ```python\n",
    "    {\"a\" : [1,2,3,4], \"b\":[10,20,30,40]}\n",
    "    ```\n",
    "- 모든 원소가 같은 구조의 딕셔너리인 리스트\n",
    "    ```python\n",
    "    [{\"a\" : 1,\"b\": 2},{\"a\" : 10,\"b\": 20},{\"a\" : 100,\"b\": 200}]\n",
    "    ```\n",
    "> 수신 결과는 단순한 딕셔너리 이므로 이 값을 통째로 리스트에 넣어줘야 한다.    "
   ]
  },
  {
   "cell_type": "code",
   "execution_count": 10,
   "metadata": {},
   "outputs": [
    {
     "data": {
      "text/html": [
       "<div>\n",
       "<style scoped>\n",
       "    .dataframe tbody tr th:only-of-type {\n",
       "        vertical-align: middle;\n",
       "    }\n",
       "\n",
       "    .dataframe tbody tr th {\n",
       "        vertical-align: top;\n",
       "    }\n",
       "\n",
       "    .dataframe thead th {\n",
       "        text-align: right;\n",
       "    }\n",
       "</style>\n",
       "<table border=\"1\" class=\"dataframe\">\n",
       "  <thead>\n",
       "    <tr style=\"text-align: right;\">\n",
       "      <th></th>\n",
       "      <th>name</th>\n",
       "      <th>type</th>\n",
       "      <th>img</th>\n",
       "    </tr>\n",
       "  </thead>\n",
       "  <tbody>\n",
       "    <tr>\n",
       "      <th>0</th>\n",
       "      <td>갤럭시 S6</td>\n",
       "      <td>삼성</td>\n",
       "      <td>http://itpaper.co.kr/demo/app/img/GalaxyS6.png</td>\n",
       "    </tr>\n",
       "  </tbody>\n",
       "</table>\n",
       "</div>"
      ],
      "text/plain": [
       "     name type                                             img\n",
       "0  갤럭시 S6   삼성  http://itpaper.co.kr/demo/app/img/GalaxyS6.png"
      ]
     },
     "execution_count": 10,
     "metadata": {},
     "output_type": "execute_result"
    }
   ],
   "source": [
    "simple_df = DataFrame([result])\n",
    "simple_df"
   ]
  },
  {
   "cell_type": "markdown",
   "metadata": {},
   "source": [
    "## #03. 리스트 형태의 데이터를 포함하는 JSON\n",
    "\n",
    "### 1) 데이터 수집\n",
    "\n",
    "#### JSON 가져오기\n"
   ]
  },
  {
   "cell_type": "code",
   "execution_count": 11,
   "metadata": {},
   "outputs": [
    {
     "data": {
      "text/plain": [
       "{'student': [{'name': '철수', 'math': 85, 'kor': 80, 'eng': 70},\n",
       "  {'name': '영이', 'math': 92, 'kor': 70, 'eng': 85},\n",
       "  {'name': '순이', 'math': 61, 'kor': 100, 'eng': 72}]}"
      ]
     },
     "execution_count": 11,
     "metadata": {},
     "output_type": "execute_result"
    }
   ],
   "source": [
    "# JSON URL\n",
    "json_list_url = \"http://www.itpaper.co.kr/demo/py/student.json\"\n",
    "\n",
    "# 준비된 URL의 컨텐츠 가져오기 \n",
    "r = requests.get(json_list_url)\n",
    "\n",
    "# 접속에 실패한 경우에 대한 예외 처리 \n",
    "if r.status_code != 200 :\n",
    "    #에러 코드와 에러 메세지 출력\n",
    "    printf(\"[%d Error] %s\" % (r.status_code, r.reason))\n",
    "    # 프로그램 강제 종료 (Jupyter가 재시작됨)\n",
    "    quit() \n",
    "    \n",
    "# 인코딩 지정\n",
    "r.encoding = \"utf-8\"\n",
    "\n",
    "# 가져온 결과를 딕셔너리로 변환\n",
    "result = json.loads(r.text)\n",
    "result"
   ]
  },
  {
   "cell_type": "markdown",
   "metadata": {},
   "source": [
    "#### 데이터프레임으로 변환\n",
    "\n",
    "가져온 결과에서 `student` 키에 해당하는 리스트를 추출하여 데이터프레임으로 변환한다."
   ]
  },
  {
   "cell_type": "code",
   "execution_count": 12,
   "metadata": {},
   "outputs": [
    {
     "data": {
      "text/html": [
       "<div>\n",
       "<style scoped>\n",
       "    .dataframe tbody tr th:only-of-type {\n",
       "        vertical-align: middle;\n",
       "    }\n",
       "\n",
       "    .dataframe tbody tr th {\n",
       "        vertical-align: top;\n",
       "    }\n",
       "\n",
       "    .dataframe thead th {\n",
       "        text-align: right;\n",
       "    }\n",
       "</style>\n",
       "<table border=\"1\" class=\"dataframe\">\n",
       "  <thead>\n",
       "    <tr style=\"text-align: right;\">\n",
       "      <th></th>\n",
       "      <th>name</th>\n",
       "      <th>math</th>\n",
       "      <th>kor</th>\n",
       "      <th>eng</th>\n",
       "    </tr>\n",
       "  </thead>\n",
       "  <tbody>\n",
       "    <tr>\n",
       "      <th>0</th>\n",
       "      <td>철수</td>\n",
       "      <td>85</td>\n",
       "      <td>80</td>\n",
       "      <td>70</td>\n",
       "    </tr>\n",
       "    <tr>\n",
       "      <th>1</th>\n",
       "      <td>영이</td>\n",
       "      <td>92</td>\n",
       "      <td>70</td>\n",
       "      <td>85</td>\n",
       "    </tr>\n",
       "    <tr>\n",
       "      <th>2</th>\n",
       "      <td>순이</td>\n",
       "      <td>61</td>\n",
       "      <td>100</td>\n",
       "      <td>72</td>\n",
       "    </tr>\n",
       "  </tbody>\n",
       "</table>\n",
       "</div>"
      ],
      "text/plain": [
       "  name  math  kor  eng\n",
       "0   철수    85   80   70\n",
       "1   영이    92   70   85\n",
       "2   순이    61  100   72"
      ]
     },
     "execution_count": 12,
     "metadata": {},
     "output_type": "execute_result"
    }
   ],
   "source": [
    "student_df = DataFrame(result['student'])\n",
    "student_df"
   ]
  },
  {
   "cell_type": "markdown",
   "metadata": {},
   "source": [
    "### 2) 데이터 전처리 \n",
    "\n",
    "#### 학생이름을 인덱스로 변경"
   ]
  },
  {
   "cell_type": "code",
   "execution_count": 15,
   "metadata": {},
   "outputs": [
    {
     "data": {
      "text/html": [
       "<div>\n",
       "<style scoped>\n",
       "    .dataframe tbody tr th:only-of-type {\n",
       "        vertical-align: middle;\n",
       "    }\n",
       "\n",
       "    .dataframe tbody tr th {\n",
       "        vertical-align: top;\n",
       "    }\n",
       "\n",
       "    .dataframe thead th {\n",
       "        text-align: right;\n",
       "    }\n",
       "</style>\n",
       "<table border=\"1\" class=\"dataframe\">\n",
       "  <thead>\n",
       "    <tr style=\"text-align: right;\">\n",
       "      <th></th>\n",
       "      <th>수학</th>\n",
       "      <th>국어</th>\n",
       "      <th>영어</th>\n",
       "    </tr>\n",
       "  </thead>\n",
       "  <tbody>\n",
       "    <tr>\n",
       "      <th>철수</th>\n",
       "      <td>85</td>\n",
       "      <td>80</td>\n",
       "      <td>70</td>\n",
       "    </tr>\n",
       "    <tr>\n",
       "      <th>영이</th>\n",
       "      <td>92</td>\n",
       "      <td>70</td>\n",
       "      <td>85</td>\n",
       "    </tr>\n",
       "    <tr>\n",
       "      <th>순이</th>\n",
       "      <td>61</td>\n",
       "      <td>100</td>\n",
       "      <td>72</td>\n",
       "    </tr>\n",
       "  </tbody>\n",
       "</table>\n",
       "</div>"
      ],
      "text/plain": [
       "    수학   국어  영어\n",
       "철수  85   80  70\n",
       "영이  92   70  85\n",
       "순이  61  100  72"
      ]
     },
     "execution_count": 15,
     "metadata": {},
     "output_type": "execute_result"
    }
   ],
   "source": [
    "# name 열의 값을 인덱스로 사용하기 위해서 리스트 형식으로 추출\n",
    "name_list = list(student_df['name'])\n",
    "\n",
    "# 데이터프레임의 rename 함수에 적용하기 위한 딕셔너리 생성\n",
    "name_dict = {}\n",
    "for i, v in enumerate(name_list):\n",
    "    name_dict[i] = v\n",
    "    \n",
    "# 데이터 프레밍의 인덱스, 컬럼이름 변경 및 name 컬럼 삭제\n",
    "성적표df = student_df.rename(index=name_dict, columns={\"math\":\"수학\", \"kor\":\"국어\", \"eng\":\"영어\"})\n",
    "성적표df.drop('name', axis=1, inplace=True)\n",
    "성적표df"
   ]
  },
  {
   "cell_type": "markdown",
   "metadata": {},
   "source": [
    "#### 컬럼 순서 변경"
   ]
  },
  {
   "cell_type": "code",
   "execution_count": 16,
   "metadata": {},
   "outputs": [
    {
     "data": {
      "text/html": [
       "<div>\n",
       "<style scoped>\n",
       "    .dataframe tbody tr th:only-of-type {\n",
       "        vertical-align: middle;\n",
       "    }\n",
       "\n",
       "    .dataframe tbody tr th {\n",
       "        vertical-align: top;\n",
       "    }\n",
       "\n",
       "    .dataframe thead th {\n",
       "        text-align: right;\n",
       "    }\n",
       "</style>\n",
       "<table border=\"1\" class=\"dataframe\">\n",
       "  <thead>\n",
       "    <tr style=\"text-align: right;\">\n",
       "      <th></th>\n",
       "      <th>국어</th>\n",
       "      <th>영어</th>\n",
       "      <th>수학</th>\n",
       "    </tr>\n",
       "  </thead>\n",
       "  <tbody>\n",
       "    <tr>\n",
       "      <th>철수</th>\n",
       "      <td>80</td>\n",
       "      <td>70</td>\n",
       "      <td>85</td>\n",
       "    </tr>\n",
       "    <tr>\n",
       "      <th>영이</th>\n",
       "      <td>70</td>\n",
       "      <td>85</td>\n",
       "      <td>92</td>\n",
       "    </tr>\n",
       "    <tr>\n",
       "      <th>순이</th>\n",
       "      <td>100</td>\n",
       "      <td>72</td>\n",
       "      <td>61</td>\n",
       "    </tr>\n",
       "  </tbody>\n",
       "</table>\n",
       "</div>"
      ],
      "text/plain": [
       "     국어  영어  수학\n",
       "철수   80  70  85\n",
       "영이   70  85  92\n",
       "순이  100  72  61"
      ]
     },
     "execution_count": 16,
     "metadata": {},
     "output_type": "execute_result"
    }
   ],
   "source": [
    "성적표df = 성적표df.reindex(columns=[\"국어\", \"영어\",\"수학\"])\n",
    "성적표df"
   ]
  },
  {
   "cell_type": "markdown",
   "metadata": {},
   "source": [
    "### 3) 데이터 시각화"
   ]
  },
  {
   "cell_type": "code",
   "execution_count": 17,
   "metadata": {},
   "outputs": [
    {
     "data": {
      "image/png": "[encoded data removed]",
      "text/plain": [
       "<Figure size 1008x576 with 1 Axes>"
      ]
     },
     "metadata": {
      "needs_background": "light"
     },
     "output_type": "display_data"
    }
   ],
   "source": [
    "# 그래프를 만들기 위한 한글 폰트 설정\n",
    "pyplot.rcParams[\"font.family\"] = 'Malgun Gothic'\n",
    "pyplot.rcParams[\"font.size\"] =16\n",
    "pyplot.rcParams[\"figure.figsize\"] = (14,8)\n",
    "\n",
    "# 전체 컬럼에 대한 시각화\n",
    "성적표df.plot.bar(rot=0)\n",
    "pyplot.grid()\n",
    "pyplot.title('학생별 시험 점수')\n",
    "pyplot.legend()\n",
    "pyplot.ylabel('점수')\n",
    "pyplot.show()"
   ]
  }
 ],
 "metadata": {
  "kernelspec": {
   "display_name": "Python 3",
   "language": "python",
   "name": "python3"
  },
  "language_info": {
   "codemirror_mode": {
    "name": "ipython",
    "version": 3
   },
   "file_extension": ".py",
   "mimetype": "text/x-python",
   "name": "python",
   "nbconvert_exporter": "python",
   "pygments_lexer": "ipython3",
   "version": "3.7.4"
  }
 },
 "nbformat": 4,
 "nbformat_minor": 4
}
