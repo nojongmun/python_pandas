{
 "cells": [
  {
   "cell_type": "markdown",
   "metadata": {},
   "source": [
    "# 15_HTTP 통신\n",
    "\n",
    "## 웹에서 수집할 수 있는 데이터의 형식\n",
    "\n",
    "| 형식 | 설명 |\n",
    "| ---- | ---- |\n",
    "| TEXT       |  단순 텍스트 파일을 내려받아서 문자열 변수에 저장해야 함  |\n",
    "| CSV, XLSX  |  Pandas가 자체적으로 처리 가능 |\n",
    "| **JSON**   |  requests 모듈을 통해 데이터를  받아온 후 JSON 클래스를 통해 DataFrame으로 변환 |\n",
    "| **HTML**(일반 웹 페이지),  XML |  requests 모듈을 통해 문자열 형태로 내려받고, BeautifulSoup 클래스를 통해 데이터 추출 |\n",
    "| 이미지, 동영상 |  requests 모듈을 통해 직접 파일 다운로드 구현 |\n",
    "\n",
    "##  requests 모듈\n",
    "\n",
    "HTTP(웹) 통신 기능를 제공하는 파이썬 패키지. \n",
    "\n",
    "명령프롬프트을 실행한 후 다음 명령어로 설치 \n",
    "\n",
    "````shell\n",
    "pip install --upgrade requests\n",
    "````\n",
    "\n",
    "> `--upgrade` 옵션은 이미 설치가 되어 있다면 최신 버전으로 교체하는 옵션\n",
    "\n",
    "## #01. 필요한 패키지 가져오기 "
   ]
  },
  {
   "cell_type": "code",
   "execution_count": 1,
   "metadata": {},
   "outputs": [],
   "source": [
    "import requests  # 통신 기능 제공"
   ]
  },
  {
   "cell_type": "markdown",
   "metadata": {},
   "source": [
    "## #02. 간단한 텍스트 데이터 가져오기\n",
    "\n",
    "### 1) 텍스트 데이터 URL"
   ]
  },
  {
   "cell_type": "code",
   "execution_count": 3,
   "metadata": {},
   "outputs": [],
   "source": [
    "simple_text_url = \"http://itpaper.co.kr/demo/py/simple_text.txt\""
   ]
  },
  {
   "cell_type": "markdown",
   "metadata": {},
   "source": [
    "### 2) 특정 웹 페이지에 접속\n",
    "\n",
    "통신 결과를 저장하고 있는 객체가 반환된다."
   ]
  },
  {
   "cell_type": "code",
   "execution_count": 5,
   "metadata": {},
   "outputs": [
    {
     "data": {
      "text/plain": [
       "<Response [200]>"
      ]
     },
     "execution_count": 5,
     "metadata": {},
     "output_type": "execute_result"
    }
   ],
   "source": [
    "r = requests.get(simple_text_url)\n",
    "r"
   ]
  },
  {
   "cell_type": "markdown",
   "metadata": {},
   "source": [
    "### 3) 접속에 실패한 경우에 대한 예외 처리 \n",
    "\n",
    "통신 결과 객체에 내장된 상태코드(status_code)값을 활용하여 통신의 성공/실패 여부를 판단한다.\n",
    "\n",
    "- 200 : OK\n",
    "- 400, 403 : 잘못된 접근 혹은 접근 권한 없음.\n",
    "- 404 : Page Not Found (URL 오타)    \n",
    "- 50X : Server Error ( 접속대상이 에러인 상황)    "
   ]
  },
  {
   "cell_type": "code",
   "execution_count": 6,
   "metadata": {},
   "outputs": [],
   "source": [
    "if r.status_code != 200 :\n",
    "    #에러 코드와 에러 메세지 출력\n",
    "    printf(\"[%d Error] %s\" % (r.status_code, r.reason))\n",
    "    # 프로그램 강제 종료 (Jupyter가 재시작됨)\n",
    "    quit()"
   ]
  },
  {
   "cell_type": "markdown",
   "metadata": {},
   "source": [
    "### 4) 텍스트 데이터 추출\n",
    "\n",
    "수집한 컨텐츠의 인코딩 형식을 파이썬에게 알려준 후 텍스트를 추출한다.\n",
    "\n",
    "인코딩 형식은 해당 데이터가 문자열을 부호화(2진수로 변환)하는데 사용한 변환방법으로, \n",
    "인코딩 형식을 파이썬에게 알려줘야 해당 방법을 사용해 데이터를 문자열로 복호화 할 수 있다.\n",
    "\n",
    ">  일반적인 인코딩 형식은 \"utf-8\"(다국어 지원)이 대부분이며 드물게 \"euc-kr\",\"euc-ch\", \"euc-jp\"등을 사용하는 경우가 있다"
   ]
  },
  {
   "cell_type": "code",
   "execution_count": 7,
   "metadata": {},
   "outputs": [
    {
     "data": {
      "text/plain": [
       "'Hello Python~!!!\\n안녕하세요. 파이썬~!!!\\n'"
      ]
     },
     "execution_count": 7,
     "metadata": {},
     "output_type": "execute_result"
    }
   ],
   "source": [
    "# 인코딩 형식 지정 (대상 파일이 저장된 방식을 명시해야 함)\n",
    "r.encoding = \"utf-8\"\n",
    "\n",
    "#텍스트 출력\n",
    "r.text"
   ]
  },
  {
   "cell_type": "markdown",
   "metadata": {},
   "source": [
    "## #03. 파일 다운로드\n",
    "\n",
    "HTML 웹 페이지, JSON 형식의 Open API, txt 파일 등은 텍스트 형식으로 식별되지만, pptx, pdf, 이미지 파일 등을 직접 다운로드 처리 형태로 수집해야 한다.\n",
    "\n",
    "그 밖에 일반 텍스트 형식의 파일도 필요한 경우 다운로드 형태로 구분할 수 있다.\n",
    "\n",
    "### 1) 데이터 가져오기 "
   ]
  },
  {
   "cell_type": "code",
   "execution_count": 8,
   "metadata": {},
   "outputs": [],
   "source": [
    "# 다운로드 할 대상의 URL\n",
    "file_url = \"http://www.itpaper.co.kr/demo/py/grade.csv\"\n",
    "\n",
    "# URL에 파일을 다운로드 하기 위해 접속\n",
    "# 스트림 : 컴퓨터에서 사용하는 데이터(바이너리)를 모든 장치에서 사용할 수 있도록 규격화 한 형태\n",
    "r = requests.get(file_url, stream=True)\n",
    "\n",
    "# 접속에 실패한 경우\n",
    "if r.status_code != 200 :\n",
    "    #에러 코드와 에러 메세지 출력\n",
    "    printf(\"[%d Error] %s\" % (r.status_code, r.reason))\n",
    "    # 프로그램 강제 종료 (Jupyter가 재시작됨)\n",
    "    quit() \n"
   ]
  },
  {
   "cell_type": "markdown",
   "metadata": {},
   "source": [
    "### 2) raw 데이터 저장하기 \n",
    "\n",
    "특별한 출력결과 없음. 지정한 경로에 다운로드 된 파일을 확인 하세요.\n",
    "\n",
    "> 여기서는 현재 작성중인 소스 파일과 동일한 폴더내에 저장됨"
   ]
  },
  {
   "cell_type": "code",
   "execution_count": 9,
   "metadata": {},
   "outputs": [
    {
     "name": "stdout",
     "output_type": "stream",
     "text": [
      "다운로드 완료\n"
     ]
    }
   ],
   "source": [
    "# 수집 결과의 바이너리(이진값) 데이터를 추출\n",
    "data = r.raw.read()\n",
    "\n",
    "# 추출한 데이터를 저장\n",
    "# -> 'w' : 텍스트 쓰기 모드,  'wb' ; 바이너리(이진값) 쓰기 모드\n",
    "with open(\"다운로드파일.csv\", 'wb') as f :\n",
    "    f.write(data)\n",
    "    print(\"다운로드 완료\")"
   ]
  }
 ],
 "metadata": {
  "kernelspec": {
   "display_name": "Python 3",
   "language": "python",
   "name": "python3"
  },
  "language_info": {
   "codemirror_mode": {
    "name": "ipython",
    "version": 3
   },
   "file_extension": ".py",
   "mimetype": "text/x-python",
   "name": "python",
   "nbconvert_exporter": "python",
   "pygments_lexer": "ipython3",
   "version": "3.7.4"
  }
 },
 "nbformat": 4,
 "nbformat_minor": 4
}
